{
  "nbformat": 4,
  "nbformat_minor": 0,
  "metadata": {
    "kernelspec": {
      "display_name": "Python 3",
      "language": "python",
      "name": "python3"
    },
    "language_info": {
      "codemirror_mode": {
        "name": "ipython",
        "version": 3
      },
      "file_extension": ".py",
      "mimetype": "text/x-python",
      "name": "python",
      "nbconvert_exporter": "python",
      "pygments_lexer": "ipython3",
      "version": "3.6.9"
    },
    "colab": {
      "name": "3.-Redes_Bayesianas.ipynb",
      "provenance": []
    }
  },
  "cells": [
    {
      "cell_type": "markdown",
      "metadata": {
        "id": "22ieQsBnfw4M"
      },
      "source": [
        "# Redes Bayesianas\n",
        "Las redes Bayesianas corresponden a un caso particular de factorización de una probabilidad conjunto en que cada factor es también una distribución.\n",
        "\n",
        "El criterio para detectar independencia entre condicional en un grafo probabilístico corresponde a la d-separación, que nos dice que si $x_i$ y $x_j$ están bloqueados por un subconjunto $S \\in X \\setminus \\{x_i,x_j\\}$ de las variables, entonces $x_i$ es independiente de $x_j$ dado $S$. Esto nos lleva también a concluir que en un árbol, cada variable $x_i$ es independiente de sus hijos y sus abuelos, dado el valor de las variables en el conjunto $S$ que contiene a sus padres. \n",
        "\n",
        "\n",
        "En general, podemos decir que podemos garantizar que $x_i \\perp x_j \\vert S$,si no existe ninguna ruta activa entre ambos vertices. Una ruta se dice activa si todas las tripletas que la componen se encuentran activas."
      ]
    },
    {
      "cell_type": "code",
      "metadata": {
        "id": "hf0j-Jkifw5O",
        "outputId": "f99312df-c7ee-4817-d012-4975e921d954",
        "colab": {
          "base_uri": "https://localhost:8080/",
          "height": 319
        }
      },
      "source": [
        "import networkx as nx\n",
        "import matplotlib.pyplot as plt\n",
        "\n",
        "G=nx.DiGraph()\n",
        "G.add_edges_from([('B','A'),('E','A'),('A','J'),('A','M')])\n",
        "pos={'A': (0,0),'B':(1,1),'J': (1,-1),'E': (-1,1),'M':(-1,-1)}\n",
        "nx.draw(G,pos=pos)\n",
        "nx.draw_networkx_labels(G,pos)\n",
        "plt.show()\n"
      ],
      "execution_count": 27,
      "outputs": [
        {
          "output_type": "display_data",
          "data": {
            "image/png": "[encoded data removed]",
            "text/plain": [
              "<Figure size 432x288 with 1 Axes>"
            ]
          },
          "metadata": {
            "tags": []
          }
        }
      ]
    },
    {
      "cell_type": "code",
      "metadata": {
        "id": "wrv2taCx31MB",
        "outputId": "5ee8a586-0ed4-4571-c799-54111eb66a95",
        "colab": {
          "base_uri": "https://localhost:8080/",
          "height": 89
        }
      },
      "source": [
        "from networkx.algorithms.d_separation import d_separated\n",
        "\n",
        "print('B _|_ E     : ',d_separated(G,{'B'},{'E'},{}))\n",
        "print('B _|_ E | A : ',d_separated(G,{'B'},{'E'},{'A'}))\n",
        "print('B _|_ M     : ',d_separated(G,{'B'},{'M'},{}))\n",
        "print('B _|_ M | A : ',d_separated(G,{'B'},{'M'},{'A'}))\n",
        "\n"
      ],
      "execution_count": 36,
      "outputs": [
        {
          "output_type": "stream",
          "text": [
            "B _|_ E     :  True\n",
            "B _|_ E | A :  False\n",
            "B _|_ M     :  False\n",
            "B _|_ M | A :  True\n"
          ],
          "name": "stdout"
        }
      ]
    },
    {
      "cell_type": "markdown",
      "metadata": {
        "id": "izFqv5sZfw5R"
      },
      "source": [
        "# Red Asia"
      ]
    },
    {
      "cell_type": "code",
      "metadata": {
        "id": "mqrxuP604HDu",
        "outputId": "8004cfb9-95cd-4ec7-92c6-d701409419d0",
        "colab": {
          "base_uri": "https://localhost:8080/",
          "height": 341
        }
      },
      "source": [
        "! pip install --user pgmpy\n",
        "! pip install --user  wget"
      ],
      "execution_count": 35,
      "outputs": [
        {
          "output_type": "stream",
          "text": [
            "Requirement already satisfied: pgmpy in /root/.local/lib/python3.6/site-packages (0.1.12)\n",
            "Requirement already satisfied: scipy in /usr/local/lib/python3.6/dist-packages (from pgmpy) (1.4.1)\n",
            "Requirement already satisfied: scikit-learn in /usr/local/lib/python3.6/dist-packages (from pgmpy) (0.22.2.post1)\n",
            "Requirement already satisfied: numpy in /usr/local/lib/python3.6/dist-packages (from pgmpy) (1.18.5)\n",
            "Requirement already satisfied: networkx in /usr/local/lib/python3.6/dist-packages (from pgmpy) (2.5)\n",
            "Requirement already satisfied: joblib in /usr/local/lib/python3.6/dist-packages (from pgmpy) (0.16.0)\n",
            "Requirement already satisfied: pyparsing in /usr/local/lib/python3.6/dist-packages (from pgmpy) (2.4.7)\n",
            "Requirement already satisfied: statsmodels in /usr/local/lib/python3.6/dist-packages (from pgmpy) (0.10.2)\n",
            "Requirement already satisfied: tqdm in /usr/local/lib/python3.6/dist-packages (from pgmpy) (4.41.1)\n",
            "Requirement already satisfied: torch in /usr/local/lib/python3.6/dist-packages (from pgmpy) (1.6.0+cu101)\n",
            "Requirement already satisfied: pandas in /usr/local/lib/python3.6/dist-packages (from pgmpy) (1.1.2)\n",
            "Requirement already satisfied: decorator>=4.3.0 in /usr/local/lib/python3.6/dist-packages (from networkx->pgmpy) (4.4.2)\n",
            "Requirement already satisfied: patsy>=0.4.0 in /usr/local/lib/python3.6/dist-packages (from statsmodels->pgmpy) (0.5.1)\n",
            "Requirement already satisfied: future in /usr/local/lib/python3.6/dist-packages (from torch->pgmpy) (0.16.0)\n",
            "Requirement already satisfied: pytz>=2017.2 in /usr/local/lib/python3.6/dist-packages (from pandas->pgmpy) (2018.9)\n",
            "Requirement already satisfied: python-dateutil>=2.7.3 in /usr/local/lib/python3.6/dist-packages (from pandas->pgmpy) (2.8.1)\n",
            "Requirement already satisfied: six in /usr/local/lib/python3.6/dist-packages (from patsy>=0.4.0->statsmodels->pgmpy) (1.15.0)\n",
            "Requirement already satisfied: wget in /root/.local/lib/python3.6/site-packages (3.2)\n"
          ],
          "name": "stdout"
        }
      ]
    },
    {
      "cell_type": "code",
      "metadata": {
        "id": "cMPfwvIlfw5S"
      },
      "source": [
        "import wget\n",
        "import gzip\n",
        "f = wget.download('http://www.bnlearn.com/bnrepository/asia/asia.bif.gz')\n",
        "with gzip.open('asia.bif.gz', mode='rb') as f:\n",
        "    file_content=f.read()\n",
        "with open('asia.bif', mode='wb') as f:\n",
        "    f.write(file_content)"
      ],
      "execution_count": 1,
      "outputs": []
    },
    {
      "cell_type": "code",
      "metadata": {
        "id": "YgEcODZRfw5V"
      },
      "source": [
        "from pgmpy.readwrite import BIFReader\n",
        "reader = BIFReader('asia.bif')\n",
        "!rm asia.bif\n",
        "!rm asia.bif.gz\n",
        "model = reader.get_model()"
      ],
      "execution_count": 2,
      "outputs": []
    },
    {
      "cell_type": "code",
      "metadata": {
        "id": "o4kdpxryfw5Y"
      },
      "source": [
        "#reader=BIFReader('data/asia.bif')\n",
        "#model=reader.get_model()"
      ],
      "execution_count": null,
      "outputs": []
    },
    {
      "cell_type": "code",
      "metadata": {
        "id": "kwp0Ei9Hfw5b",
        "outputId": "fb28a523-6bd6-48a0-89f3-5a4a7e524a36",
        "colab": {
          "base_uri": "https://localhost:8080/",
          "height": 35
        }
      },
      "source": [
        "model.nodes()"
      ],
      "execution_count": 3,
      "outputs": [
        {
          "output_type": "execute_result",
          "data": {
            "text/plain": [
              "NodeView(('asia', 'tub', 'smoke', 'lung', 'bronc', 'either', 'xray', 'dysp'))"
            ]
          },
          "metadata": {
            "tags": []
          },
          "execution_count": 3
        }
      ]
    },
    {
      "cell_type": "code",
      "metadata": {
        "id": "0tOsjHoFfw5e"
      },
      "source": [
        "from IPython.display import Image\n",
        "Image('data/asia.png')"
      ],
      "execution_count": null,
      "outputs": []
    },
    {
      "cell_type": "code",
      "metadata": {
        "id": "eg1qz7D2fw5g"
      },
      "source": [
        "model.is_active_trail('tub', 'smoke', observed='dysp')"
      ],
      "execution_count": null,
      "outputs": []
    },
    {
      "cell_type": "code",
      "metadata": {
        "id": "RfjqXOd_fw5l"
      },
      "source": [
        "model.is_active_trail('tub', 'smoke')"
      ],
      "execution_count": null,
      "outputs": []
    },
    {
      "cell_type": "code",
      "metadata": {
        "id": "nTLADvxpfw5p"
      },
      "source": [
        "model.is_active_trail('lung', 'bronc', observed='smoke')"
      ],
      "execution_count": null,
      "outputs": []
    },
    {
      "cell_type": "code",
      "metadata": {
        "id": "skp58s_rfw5r"
      },
      "source": [
        "model.is_active_trail('asia', 'smoke', observed='lung')"
      ],
      "execution_count": null,
      "outputs": []
    },
    {
      "cell_type": "code",
      "metadata": {
        "id": "4ykzJT3ffw5u"
      },
      "source": [
        "model.is_active_trail('asia', 'smoke', observed=['lung','dysp'])"
      ],
      "execution_count": null,
      "outputs": []
    },
    {
      "cell_type": "code",
      "metadata": {
        "id": "si7Y2QFlfw5x"
      },
      "source": [
        "model.get_independencies()"
      ],
      "execution_count": null,
      "outputs": []
    },
    {
      "cell_type": "code",
      "metadata": {
        "id": "OuD_xkFZfw5z"
      },
      "source": [
        "model.local_independencies('tub')"
      ],
      "execution_count": null,
      "outputs": []
    },
    {
      "cell_type": "code",
      "metadata": {
        "id": "BNSRvIxgfw53"
      },
      "source": [
        "model.is_active_trail('lung', 'tub', observed='either')"
      ],
      "execution_count": null,
      "outputs": []
    },
    {
      "cell_type": "code",
      "metadata": {
        "id": "q8PJGeEKfw55"
      },
      "source": [
        ""
      ],
      "execution_count": null,
      "outputs": []
    }
  ]
}