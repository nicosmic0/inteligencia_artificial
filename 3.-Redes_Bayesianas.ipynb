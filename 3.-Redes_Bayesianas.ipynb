{
 "cells": [
  {
   "cell_type": "markdown",
   "metadata": {
    "id": "22ieQsBnfw4M"
   },
   "source": [
    "# Redes Bayesianas\n",
    "Las redes Bayesianas corresponden a un caso particular de factorización de una probabilidad conjunto en que cada factor es también una distribución.\n",
    "\n",
    "El criterio para detectar independencia entre condicional en un grafo probabilístico corresponde a la d-separación, que nos dice que si $x_i$ y $x_j$ están bloqueados por un subconjunto $S \\in X \\setminus \\{x_i,x_j\\}$ de las variables, entonces $x_i$ es independiente de $x_j$ dado $S$. Esto nos lleva también a concluir que en un árbol, cada variable $x_i$ es independiente de sus hijos y sus abuelos, dado el valor de las variables en el conjunto $S$ que contiene a sus padres. \n",
    "\n",
    "\n",
    "En general, podemos decir que podemos garantizar que $x_i \\perp x_j \\vert S$,si no existe ninguna ruta activa entre ambos vertices. Una ruta se dice activa si todas las tripletas que la componen se encuentran activas."
   ]
  },
  {
   "cell_type": "code",
   "execution_count": 37,
   "metadata": {
    "colab": {
     "base_uri": "https://localhost:8080/",
     "height": 319
    },
    "id": "hf0j-Jkifw5O",
    "outputId": "f99312df-c7ee-4817-d012-4975e921d954"
   },
   "outputs": [
    {
     "data": {
      "image/png": "[encoded data removed]",
      "text/plain": [
       "<Figure size 432x288 with 1 Axes>"
      ]
     },
     "metadata": {},
     "output_type": "display_data"
    }
   ],
   "source": [
    "import networkx as nx\n",
    "import matplotlib.pyplot as plt\n",
    "\n",
    "G=nx.DiGraph()\n",
    "G.add_edges_from([('B','A'),('E','A'),('A','J'),('A','M')])\n",
    "pos={'A': (0,0),'B':(1,1),'J': (1,-1),'E': (-1,1),'M':(-1,-1)}\n",
    "nx.draw(G,pos=pos,node_size=500)\n",
    "nx.draw_networkx_labels(G,pos)\n",
    "plt.show()\n"
   ]
  },
  {
   "cell_type": "code",
   "execution_count": 32,
   "metadata": {
    "colab": {
     "base_uri": "https://localhost:8080/",
     "height": 89
    },
    "id": "wrv2taCx31MB",
    "outputId": "5ee8a586-0ed4-4571-c799-54111eb66a95"
   },
   "outputs": [
    {
     "name": "stdout",
     "output_type": "stream",
     "text": [
      "Efecto comun\n",
      "Tripleta inactiva=> B _|_ E     :  True\n",
      "Tripleta activa=> B _|_ E | A :  False\n",
      "Tripleta activa=> B _|_ E | J :  False\n",
      "--------------------\n",
      "Cadena causal\n",
      "Tripleta activa=> B _|_ M     :  False\n",
      "Tripleta inactiva=> B _|_ M | A :  True\n",
      "--------------------\n",
      "Causa comun\n",
      "Tripleta activa=> J _|_ M     :  False\n",
      "Tripleta inactiva=> J _|_ M | A :  True\n"
     ]
    }
   ],
   "source": [
    "from networkx.algorithms.d_separation import d_separated\n",
    "\n",
    "print('Efecto comun')\n",
    "print('Tripleta inactiva', end = '=> ')\n",
    "print('B _|_ E     : ',d_separated(G,{'B'},{'E'},{}))\n",
    "\n",
    "print('Tripleta activa', end = '=> ')\n",
    "print('B _|_ E | A : ',d_separated(G,{'B'},{'E'},{'A'}))\n",
    "\n",
    "print('Tripleta activa', end = '=> ')\n",
    "print('B _|_ E | J : ',d_separated(G,{'B'},{'E'},{'J'}))\n",
    "\n",
    "print('--------------------')\n",
    "print('Cadena causal')\n",
    "print('Tripleta activa', end = '=> ')\n",
    "print('B _|_ M     : ',d_separated(G,{'B'},{'M'},{}))\n",
    "\n",
    "print('Tripleta inactiva', end = '=> ')\n",
    "print('B _|_ M | A : ',d_separated(G,{'B'},{'M'},{'A'}))\n",
    "\n",
    "print('--------------------')\n",
    "print('Causa comun')\n",
    "print('Tripleta activa', end = '=> ')\n",
    "print('J _|_ M     : ',d_separated(G,{'J'},{'M'},{}))\n",
    "\n",
    "print('Tripleta inactiva', end = '=> ')\n",
    "print('J _|_ M | A : ',d_separated(G,{'J'},{'M'},{'A'}))"
   ]
  },
  {
   "cell_type": "markdown",
   "metadata": {},
   "source": [
    "1. En el caso más general, vamos a decir que dos grupos de variables están d-separadas si todas las rutas (no dirigidas) entre los nodos están bloqueadas (inactivas). \n",
    "\n",
    "2. Una tripleta inactiva bloquea la información entre los dos nodos. \n",
    "\n",
    "3. Una ruta está activa si todas las tripletas que se encuentran a lo largo del camino se encuentran inactivas. "
   ]
  },
  {
   "cell_type": "code",
   "execution_count": 38,
   "metadata": {},
   "outputs": [
    {
     "name": "stdout",
     "output_type": "stream",
     "text": [
      "['E', 'A', 'J']\n"
     ]
    }
   ],
   "source": [
    "for path in nx.all_simple_paths(G.to_undirected(), source='E', target='J'):\n",
    "    print(path)"
   ]
  },
  {
   "cell_type": "code",
   "execution_count": 39,
   "metadata": {},
   "outputs": [
    {
     "data": {
      "image/png": "[encoded data removed]",
      "text/plain": [
       "<Figure size 432x288 with 1 Axes>"
      ]
     },
     "metadata": {},
     "output_type": "display_data"
    }
   ],
   "source": [
    "G2=nx.DiGraph()\n",
    "G2.add_edges_from([('U','W'),('V','W'),('W','Y'),('X','Y'),\n",
    "                 ('V','X'),('V','T'),('T','Z')])\n",
    "pos={'U': (0,0),'V':(1,0),'W': (0,-1),'X': (1,-1),\n",
    "     'Y':(-0.5,-2),'T':(2,-1),'Z':(2,-2)}\n",
    "nx.draw(G2,pos=pos,node_size=500)\n",
    "nx.draw_networkx_labels(G2,pos)\n",
    "plt.show()"
   ]
  },
  {
   "cell_type": "code",
   "execution_count": 45,
   "metadata": {},
   "outputs": [
    {
     "name": "stdout",
     "output_type": "stream",
     "text": [
      "ruta :  ['U', 'W', 'Y', 'X', 'V']\n",
      "ruta :  ['U', 'W', 'V']\n",
      "U _|_ V   :  True\n",
      "U _|_ V| Y:  False\n",
      "U _|_ V| X:  True\n"
     ]
    }
   ],
   "source": [
    "for path in nx.all_simple_paths(G2.to_undirected(), source='U', target='V'):\n",
    "    print('ruta : ',path)\n",
    "    \n",
    "print('U _|_ V   : ',d_separated(G2,{'U'},{'V'},{}))\n",
    "\n",
    "print('U _|_ V| Y: ',d_separated(G2,{'U'},{'V'},{'Y'}))\n",
    "\n",
    "print('U _|_ V| X: ',d_separated(G2,{'U'},{'V'},{'X'}))"
   ]
  },
  {
   "cell_type": "code",
   "execution_count": 46,
   "metadata": {},
   "outputs": [
    {
     "name": "stdout",
     "output_type": "stream",
     "text": [
      "ruta :  ['U', 'W', 'Y', 'X', 'V', 'T']\n",
      "ruta :  ['U', 'W', 'V', 'T']\n"
     ]
    }
   ],
   "source": [
    "for path in nx.all_simple_paths(G2.to_undirected(), source='U', target='T'):\n",
    "    print('ruta : ',path)"
   ]
  },
  {
   "cell_type": "markdown",
   "metadata": {
    "id": "izFqv5sZfw5R"
   },
   "source": [
    "# Red Asia"
   ]
  },
  {
   "cell_type": "code",
   "execution_count": 35,
   "metadata": {
    "colab": {
     "base_uri": "https://localhost:8080/",
     "height": 341
    },
    "id": "mqrxuP604HDu",
    "outputId": "8004cfb9-95cd-4ec7-92c6-d701409419d0"
   },
   "outputs": [
    {
     "name": "stdout",
     "output_type": "stream",
     "text": [
      "Requirement already satisfied: pgmpy in /root/.local/lib/python3.6/site-packages (0.1.12)\n",
      "Requirement already satisfied: scipy in /usr/local/lib/python3.6/dist-packages (from pgmpy) (1.4.1)\n",
      "Requirement already satisfied: scikit-learn in /usr/local/lib/python3.6/dist-packages (from pgmpy) (0.22.2.post1)\n",
      "Requirement already satisfied: numpy in /usr/local/lib/python3.6/dist-packages (from pgmpy) (1.18.5)\n",
      "Requirement already satisfied: networkx in /usr/local/lib/python3.6/dist-packages (from pgmpy) (2.5)\n",
      "Requirement already satisfied: joblib in /usr/local/lib/python3.6/dist-packages (from pgmpy) (0.16.0)\n",
      "Requirement already satisfied: pyparsing in /usr/local/lib/python3.6/dist-packages (from pgmpy) (2.4.7)\n",
      "Requirement already satisfied: statsmodels in /usr/local/lib/python3.6/dist-packages (from pgmpy) (0.10.2)\n",
      "Requirement already satisfied: tqdm in /usr/local/lib/python3.6/dist-packages (from pgmpy) (4.41.1)\n",
      "Requirement already satisfied: torch in /usr/local/lib/python3.6/dist-packages (from pgmpy) (1.6.0+cu101)\n",
      "Requirement already satisfied: pandas in /usr/local/lib/python3.6/dist-packages (from pgmpy) (1.1.2)\n",
      "Requirement already satisfied: decorator>=4.3.0 in /usr/local/lib/python3.6/dist-packages (from networkx->pgmpy) (4.4.2)\n",
      "Requirement already satisfied: patsy>=0.4.0 in /usr/local/lib/python3.6/dist-packages (from statsmodels->pgmpy) (0.5.1)\n",
      "Requirement already satisfied: future in /usr/local/lib/python3.6/dist-packages (from torch->pgmpy) (0.16.0)\n",
      "Requirement already satisfied: pytz>=2017.2 in /usr/local/lib/python3.6/dist-packages (from pandas->pgmpy) (2018.9)\n",
      "Requirement already satisfied: python-dateutil>=2.7.3 in /usr/local/lib/python3.6/dist-packages (from pandas->pgmpy) (2.8.1)\n",
      "Requirement already satisfied: six in /usr/local/lib/python3.6/dist-packages (from patsy>=0.4.0->statsmodels->pgmpy) (1.15.0)\n",
      "Requirement already satisfied: wget in /root/.local/lib/python3.6/site-packages (3.2)\n"
     ]
    }
   ],
   "source": [
    "! pip install --user pgmpy\n",
    "! pip install --user  wget"
   ]
  },
  {
   "cell_type": "code",
   "execution_count": 1,
   "metadata": {
    "id": "cMPfwvIlfw5S"
   },
   "outputs": [],
   "source": [
    "import wget\n",
    "import gzip\n",
    "f = wget.download('http://www.bnlearn.com/bnrepository/asia/asia.bif.gz')\n",
    "with gzip.open('asia.bif.gz', mode='rb') as f:\n",
    "    file_content=f.read()\n",
    "with open('asia.bif', mode='wb') as f:\n",
    "    f.write(file_content)"
   ]
  },
  {
   "cell_type": "code",
   "execution_count": 2,
   "metadata": {
    "id": "YgEcODZRfw5V"
   },
   "outputs": [],
   "source": [
    "from pgmpy.readwrite import BIFReader\n",
    "reader = BIFReader('asia.bif')\n",
    "!rm asia.bif\n",
    "!rm asia.bif.gz\n",
    "model = reader.get_model()"
   ]
  },
  {
   "cell_type": "code",
   "execution_count": null,
   "metadata": {
    "id": "o4kdpxryfw5Y"
   },
   "outputs": [],
   "source": [
    "#reader=BIFReader('data/asia.bif')\n",
    "#model=reader.get_model()"
   ]
  },
  {
   "cell_type": "code",
   "execution_count": 3,
   "metadata": {
    "colab": {
     "base_uri": "https://localhost:8080/",
     "height": 35
    },
    "id": "kwp0Ei9Hfw5b",
    "outputId": "fb28a523-6bd6-48a0-89f3-5a4a7e524a36"
   },
   "outputs": [
    {
     "data": {
      "text/plain": [
       "NodeView(('asia', 'tub', 'smoke', 'lung', 'bronc', 'either', 'xray', 'dysp'))"
      ]
     },
     "execution_count": 3,
     "metadata": {
      "tags": []
     },
     "output_type": "execute_result"
    }
   ],
   "source": [
    "model.nodes()"
   ]
  },
  {
   "cell_type": "code",
   "execution_count": null,
   "metadata": {
    "id": "0tOsjHoFfw5e"
   },
   "outputs": [],
   "source": [
    "from IPython.display import Image\n",
    "Image('data/asia.png')"
   ]
  },
  {
   "cell_type": "code",
   "execution_count": null,
   "metadata": {
    "id": "eg1qz7D2fw5g"
   },
   "outputs": [],
   "source": [
    "model.is_active_trail('tub', 'smoke', observed='dysp')"
   ]
  },
  {
   "cell_type": "code",
   "execution_count": null,
   "metadata": {
    "id": "RfjqXOd_fw5l"
   },
   "outputs": [],
   "source": [
    "model.is_active_trail('tub', 'smoke')"
   ]
  },
  {
   "cell_type": "code",
   "execution_count": null,
   "metadata": {
    "id": "nTLADvxpfw5p"
   },
   "outputs": [],
   "source": [
    "model.is_active_trail('lung', 'bronc', observed='smoke')"
   ]
  },
  {
   "cell_type": "code",
   "execution_count": null,
   "metadata": {
    "id": "skp58s_rfw5r"
   },
   "outputs": [],
   "source": [
    "model.is_active_trail('asia', 'smoke', observed='lung')"
   ]
  },
  {
   "cell_type": "code",
   "execution_count": null,
   "metadata": {
    "id": "4ykzJT3ffw5u"
   },
   "outputs": [],
   "source": [
    "model.is_active_trail('asia', 'smoke', observed=['lung','dysp'])"
   ]
  },
  {
   "cell_type": "code",
   "execution_count": null,
   "metadata": {
    "id": "si7Y2QFlfw5x"
   },
   "outputs": [],
   "source": [
    "model.get_independencies()"
   ]
  },
  {
   "cell_type": "code",
   "execution_count": null,
   "metadata": {
    "id": "OuD_xkFZfw5z"
   },
   "outputs": [],
   "source": [
    "model.local_independencies('tub')"
   ]
  },
  {
   "cell_type": "code",
   "execution_count": null,
   "metadata": {
    "id": "BNSRvIxgfw53"
   },
   "outputs": [],
   "source": [
    "model.is_active_trail('lung', 'tub', observed='either')"
   ]
  },
  {
   "cell_type": "code",
   "execution_count": null,
   "metadata": {
    "id": "q8PJGeEKfw55"
   },
   "outputs": [],
   "source": []
  }
 ],
 "metadata": {
  "colab": {
   "name": "3.-Redes_Bayesianas.ipynb",
   "provenance": []
  },
  "kernelspec": {
   "display_name": "Python 3",
   "language": "python",
   "name": "python3"
  },
  "language_info": {
   "codemirror_mode": {
    "name": "ipython",
    "version": 3
   },
   "file_extension": ".py",
   "mimetype": "text/x-python",
   "name": "python",
   "nbconvert_exporter": "python",
   "pygments_lexer": "ipython3",
   "version": "3.6.9"
  }
 },
 "nbformat": 4,
 "nbformat_minor": 1
}
