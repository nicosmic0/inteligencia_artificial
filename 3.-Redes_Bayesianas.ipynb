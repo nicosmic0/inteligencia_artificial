{
  "nbformat": 4,
  "nbformat_minor": 0,
  "metadata": {
    "kernelspec": {
      "display_name": "Python 3",
      "language": "python",
      "name": "python3"
    },
    "language_info": {
      "codemirror_mode": {
        "name": "ipython",
        "version": 3
      },
      "file_extension": ".py",
      "mimetype": "text/x-python",
      "name": "python",
      "nbconvert_exporter": "python",
      "pygments_lexer": "ipython3",
      "version": "3.6.9"
    },
    "colab": {
      "name": "3.-Redes_Bayesianas.ipynb",
      "provenance": []
    }
  },
  "cells": [
    {
      "cell_type": "markdown",
      "metadata": {
        "id": "22ieQsBnfw4M"
      },
      "source": [
        "# Redes Bayesianas\n",
        "Las redes Bayesianas corresponden a un caso particular de factorización de una probabilidad conjunto en que cada factor es también una distribución.\n",
        "\n",
        "El criterio para detectar independencia entre condicional en un grafo probabilístico corresponde a la d-separación, que nos dice que si $x_i$ y $x_j$ están bloqueados por un subconjunto $S \\in X \\setminus \\{x_i,x_j\\}$ de las variables, entonces $x_i$ es independiente de $x_j$ dado $S$. Esto nos lleva también a concluir que en un árbol, cada variable $x_i$ es independiente de sus hijos y sus abuelos, dado el valor de las variables en el conjunto $S$ que contiene a sus padres. \n",
        "\n",
        "\n",
        "En general, podemos decir que podemos garantizar que $x_i \\perp x_j \\vert S$,si no existe ninguna ruta activa entre ambos vertices. Una ruta se dice activa si todas las tripletas que la componen se encuentran activas."
      ]
    },
    {
      "cell_type": "code",
      "metadata": {
        "id": "6lT3AtJdfw4O",
        "outputId": "ae14e09a-326c-41e8-bd95-30715115ad02",
        "colab": {
          "base_uri": "https://localhost:8080/",
          "height": 577
        }
      },
      "source": [
        "! pip install --user pgmpy\n",
        "! pip install --user  wget"
      ],
      "execution_count": 1,
      "outputs": [
        {
          "output_type": "stream",
          "text": [
            "Collecting pgmpy\n",
            "\u001b[?25l  Downloading https://files.pythonhosted.org/packages/22/16/e2edff21fca7a2cacaedd293caaaae5eaea832af0dd347c1159b4455be6b/pgmpy-0.1.12-py3-none-any.whl (322kB)\n",
            "\u001b[K     |████████████████████████████████| 327kB 3.2MB/s \n",
            "\u001b[?25hRequirement already satisfied: statsmodels in /usr/local/lib/python3.6/dist-packages (from pgmpy) (0.10.2)\n",
            "Requirement already satisfied: pandas in /usr/local/lib/python3.6/dist-packages (from pgmpy) (1.1.2)\n",
            "Requirement already satisfied: scikit-learn in /usr/local/lib/python3.6/dist-packages (from pgmpy) (0.22.2.post1)\n",
            "Requirement already satisfied: joblib in /usr/local/lib/python3.6/dist-packages (from pgmpy) (0.16.0)\n",
            "Requirement already satisfied: torch in /usr/local/lib/python3.6/dist-packages (from pgmpy) (1.6.0+cu101)\n",
            "Requirement already satisfied: tqdm in /usr/local/lib/python3.6/dist-packages (from pgmpy) (4.41.1)\n",
            "Requirement already satisfied: pyparsing in /usr/local/lib/python3.6/dist-packages (from pgmpy) (2.4.7)\n",
            "Requirement already satisfied: networkx in /usr/local/lib/python3.6/dist-packages (from pgmpy) (2.5)\n",
            "Requirement already satisfied: numpy in /usr/local/lib/python3.6/dist-packages (from pgmpy) (1.18.5)\n",
            "Requirement already satisfied: scipy in /usr/local/lib/python3.6/dist-packages (from pgmpy) (1.4.1)\n",
            "Requirement already satisfied: patsy>=0.4.0 in /usr/local/lib/python3.6/dist-packages (from statsmodels->pgmpy) (0.5.1)\n",
            "Requirement already satisfied: pytz>=2017.2 in /usr/local/lib/python3.6/dist-packages (from pandas->pgmpy) (2018.9)\n",
            "Requirement already satisfied: python-dateutil>=2.7.3 in /usr/local/lib/python3.6/dist-packages (from pandas->pgmpy) (2.8.1)\n",
            "Requirement already satisfied: future in /usr/local/lib/python3.6/dist-packages (from torch->pgmpy) (0.16.0)\n",
            "Requirement already satisfied: decorator>=4.3.0 in /usr/local/lib/python3.6/dist-packages (from networkx->pgmpy) (4.4.2)\n",
            "Requirement already satisfied: six in /usr/local/lib/python3.6/dist-packages (from patsy>=0.4.0->statsmodels->pgmpy) (1.15.0)\n",
            "Installing collected packages: pgmpy\n",
            "Successfully installed pgmpy-0.1.12\n",
            "Collecting wget\n",
            "  Downloading https://files.pythonhosted.org/packages/47/6a/62e288da7bcda82b935ff0c6cfe542970f04e29c756b0e147251b2fb251f/wget-3.2.zip\n",
            "Building wheels for collected packages: wget\n",
            "  Building wheel for wget (setup.py) ... \u001b[?25l\u001b[?25hdone\n",
            "  Created wheel for wget: filename=wget-3.2-cp36-none-any.whl size=9682 sha256=0698be46d5e5daec7aec55993dc655225b124bcb9b683e5851ab44b513377125\n",
            "  Stored in directory: /root/.cache/pip/wheels/40/15/30/7d8f7cea2902b4db79e3fea550d7d7b85ecb27ef992b618f3f\n",
            "Successfully built wget\n",
            "Installing collected packages: wget\n",
            "Successfully installed wget-3.2\n"
          ],
          "name": "stdout"
        }
      ]
    },
    {
      "cell_type": "code",
      "metadata": {
        "id": "fXYeCZLEfw4U"
      },
      "source": [
        "import pgmpy\n",
        "from pgmpy.readwrite import BIFReader"
      ],
      "execution_count": 1,
      "outputs": []
    },
    {
      "cell_type": "code",
      "metadata": {
        "id": "hcU1h0POfw4Y",
        "outputId": "8784ef59-9d3f-4174-81ed-1b4fe6501489",
        "colab": {
          "base_uri": "https://localhost:8080/",
          "height": 35
        }
      },
      "source": [
        "from pgmpy.models import BayesianModel\n",
        "from pgmpy.factors.discrete import TabularCPD\n",
        "\n",
        "# Defining the model structure. We can define the network by just passing a list of edges.\n",
        "model = BayesianModel([('P', 'H'), ('U', 'A'), ('P', 'U'), ('D', 'U')])\n",
        "\n",
        "# Defining individual CPDs.\n",
        "cpd_p = TabularCPD(variable='P', variable_card=2, values=[[0.8], [0.2]])\n",
        "cpd_d = TabularCPD(variable='D', variable_card=2, values=[[0.6], [0.4]])\n",
        "\n",
        "\n",
        "\n",
        "cpd_u = TabularCPD(variable='U', variable_card=2,\n",
        "                        values=[[0.99, 0.1,0.1,0.001],\n",
        "                               [0.01,0.9,0.9,0.999]],\n",
        "                        evidence=['P', 'D'],\n",
        "                        evidence_card=[2, 2])\n",
        "\n",
        "cpd_a = TabularCPD(variable='A', variable_card=2,\n",
        "                      values=[[0.5,0.05],\n",
        "                              [0.5,0.95],],\n",
        "                      evidence=['U'], evidence_card=[2])\n",
        "cpd_h = TabularCPD(variable='H', variable_card=2,\n",
        "                      values=[[0.8, 0.1],\n",
        "                              [0.2,0.9]],\n",
        "                      evidence=['P'], evidence_card=[2])\n",
        "\n",
        "# Associating the CPDs with the network\n",
        "model.add_cpds(cpd_p, cpd_d, cpd_u,cpd_a,cpd_h)\n",
        "\n",
        "# check_model checks for the network structure and CPDs and verifies that the CPDs are correctly \n",
        "# defined and sum to 1.\n",
        "model.check_model()"
      ],
      "execution_count": 2,
      "outputs": [
        {
          "output_type": "execute_result",
          "data": {
            "text/plain": [
              "True"
            ]
          },
          "metadata": {
            "tags": []
          },
          "execution_count": 2
        }
      ]
    },
    {
      "cell_type": "code",
      "metadata": {
        "id": "l0oAN4a8fw4c",
        "outputId": "aa6574b1-5542-453a-c793-61a7038e2447",
        "colab": {
          "base_uri": "https://localhost:8080/",
          "height": 107
        }
      },
      "source": [
        "print(cpd_p)"
      ],
      "execution_count": 3,
      "outputs": [
        {
          "output_type": "stream",
          "text": [
            "+------+-----+\n",
            "| P(0) | 0.8 |\n",
            "+------+-----+\n",
            "| P(1) | 0.2 |\n",
            "+------+-----+\n"
          ],
          "name": "stdout"
        }
      ]
    },
    {
      "cell_type": "code",
      "metadata": {
        "id": "Rt94JlVyfw4g",
        "outputId": "3c96f73d-c2e4-4170-a0cb-e9b79b65ad00",
        "colab": {
          "base_uri": "https://localhost:8080/",
          "height": 107
        }
      },
      "source": [
        "print(cpd_d)"
      ],
      "execution_count": 4,
      "outputs": [
        {
          "output_type": "stream",
          "text": [
            "+------+-----+\n",
            "| D(0) | 0.6 |\n",
            "+------+-----+\n",
            "| D(1) | 0.4 |\n",
            "+------+-----+\n"
          ],
          "name": "stdout"
        }
      ]
    },
    {
      "cell_type": "code",
      "metadata": {
        "id": "vJEzUWKwfw4k",
        "outputId": "a579fbed-fe69-4fdb-da0e-afd07f5151dd",
        "colab": {
          "base_uri": "https://localhost:8080/",
          "height": 179
        }
      },
      "source": [
        "print(cpd_u)\n"
      ],
      "execution_count": 5,
      "outputs": [
        {
          "output_type": "stream",
          "text": [
            "+------+------+------+------+-------+\n",
            "| P    | P(0) | P(0) | P(1) | P(1)  |\n",
            "+------+------+------+------+-------+\n",
            "| D    | D(0) | D(1) | D(0) | D(1)  |\n",
            "+------+------+------+------+-------+\n",
            "| U(0) | 0.99 | 0.1  | 0.1  | 0.001 |\n",
            "+------+------+------+------+-------+\n",
            "| U(1) | 0.01 | 0.9  | 0.9  | 0.999 |\n",
            "+------+------+------+------+-------+\n"
          ],
          "name": "stdout"
        }
      ]
    },
    {
      "cell_type": "code",
      "metadata": {
        "id": "AYzZeCVQfw4o",
        "outputId": "0cda0648-48e1-47fb-b26e-ce084eed69fc",
        "colab": {
          "base_uri": "https://localhost:8080/",
          "height": 143
        }
      },
      "source": [
        "print(cpd_h)"
      ],
      "execution_count": 6,
      "outputs": [
        {
          "output_type": "stream",
          "text": [
            "+------+------+------+\n",
            "| P    | P(0) | P(1) |\n",
            "+------+------+------+\n",
            "| H(0) | 0.8  | 0.1  |\n",
            "+------+------+------+\n",
            "| H(1) | 0.2  | 0.9  |\n",
            "+------+------+------+\n"
          ],
          "name": "stdout"
        }
      ]
    },
    {
      "cell_type": "code",
      "metadata": {
        "id": "_PR-CAdWfw4u",
        "outputId": "ae8593b1-2804-4326-fb98-c6bdbac937c4",
        "colab": {
          "base_uri": "https://localhost:8080/",
          "height": 143
        }
      },
      "source": [
        "print(cpd_a)"
      ],
      "execution_count": 7,
      "outputs": [
        {
          "output_type": "stream",
          "text": [
            "+------+------+------+\n",
            "| U    | U(0) | U(1) |\n",
            "+------+------+------+\n",
            "| A(0) | 0.5  | 0.05 |\n",
            "+------+------+------+\n",
            "| A(1) | 0.5  | 0.95 |\n",
            "+------+------+------+\n"
          ],
          "name": "stdout"
        }
      ]
    },
    {
      "cell_type": "code",
      "metadata": {
        "id": "HlZK9KRLfw4x",
        "outputId": "20208c9b-8732-4fdc-8631-c685edab38b5"
      },
      "source": [
        "from pgmpy.inference import VariableElimination\n",
        "infer = VariableElimination(model)\n",
        "p_dist = infer.query(['P'])\n",
        "print(p_dist)"
      ],
      "execution_count": null,
      "outputs": [
        {
          "output_type": "stream",
          "text": [
            "Finding Elimination Order: : 100%|██████████| 4/4 [00:00<00:00, 1733.90it/s]\n",
            "Eliminating: D: 100%|██████████| 4/4 [00:00<00:00, 538.58it/s]"
          ],
          "name": "stderr"
        },
        {
          "output_type": "stream",
          "text": [
            "+------+----------+\n",
            "| P    |   phi(P) |\n",
            "+======+==========+\n",
            "| P(0) |   0.8000 |\n",
            "+------+----------+\n",
            "| P(1) |   0.2000 |\n",
            "+------+----------+\n"
          ],
          "name": "stdout"
        },
        {
          "output_type": "stream",
          "text": [
            "\n"
          ],
          "name": "stderr"
        }
      ]
    },
    {
      "cell_type": "code",
      "metadata": {
        "id": "PbpkCCDCfw40",
        "outputId": "70f0cf22-db9d-491f-ee28-a53ba7e1a6e8"
      },
      "source": [
        "# P(p|a=1,h=1)\n",
        "print(infer.query(['P'], evidence={'A': 1, 'H': 1}))"
      ],
      "execution_count": null,
      "outputs": [
        {
          "output_type": "stream",
          "text": [
            "Finding Elimination Order: : 100%|██████████| 2/2 [00:00<00:00, 956.29it/s]\n",
            "Eliminating: D: 100%|██████████| 2/2 [00:00<00:00, 420.59it/s]"
          ],
          "name": "stderr"
        },
        {
          "output_type": "stream",
          "text": [
            "+------+----------+\n",
            "| P    |   phi(P) |\n",
            "+======+==========+\n",
            "| P(0) |   0.3903 |\n",
            "+------+----------+\n",
            "| P(1) |   0.6097 |\n",
            "+------+----------+\n"
          ],
          "name": "stdout"
        },
        {
          "output_type": "stream",
          "text": [
            "\n"
          ],
          "name": "stderr"
        }
      ]
    },
    {
      "cell_type": "code",
      "metadata": {
        "id": "BPcghLGKfw44",
        "outputId": "9880c5dc-71e1-48a2-c206-07728633fcbe"
      },
      "source": [
        "print(infer.query(['U'], evidence={'P': 1}))"
      ],
      "execution_count": null,
      "outputs": [
        {
          "output_type": "stream",
          "text": [
            "Finding Elimination Order: : 100%|██████████| 3/3 [00:00<00:00, 1294.41it/s]\n",
            "Eliminating: D: 100%|██████████| 3/3 [00:00<00:00, 527.25it/s]"
          ],
          "name": "stderr"
        },
        {
          "output_type": "stream",
          "text": [
            "+------+----------+\n",
            "| U    |   phi(U) |\n",
            "+======+==========+\n",
            "| U(0) |   0.0604 |\n",
            "+------+----------+\n",
            "| U(1) |   0.9396 |\n",
            "+------+----------+\n"
          ],
          "name": "stdout"
        },
        {
          "output_type": "stream",
          "text": [
            "\n"
          ],
          "name": "stderr"
        }
      ]
    },
    {
      "cell_type": "code",
      "metadata": {
        "id": "h8sisX8Qfw47",
        "outputId": "598a4e9d-4f2a-43ca-be09-1e5004c56b00"
      },
      "source": [
        "# phi_d(p=0)\n",
        "print(infer.query(['U'], evidence={'P': 0}))"
      ],
      "execution_count": null,
      "outputs": [
        {
          "output_type": "stream",
          "text": [
            "Finding Elimination Order: : 100%|██████████| 3/3 [00:00<00:00, 1097.22it/s]\n",
            "Eliminating: D: 100%|██████████| 3/3 [00:00<00:00, 597.37it/s]"
          ],
          "name": "stderr"
        },
        {
          "output_type": "stream",
          "text": [
            "+------+----------+\n",
            "| U    |   phi(U) |\n",
            "+======+==========+\n",
            "| U(0) |   0.6340 |\n",
            "+------+----------+\n",
            "| U(1) |   0.3660 |\n",
            "+------+----------+\n"
          ],
          "name": "stdout"
        },
        {
          "output_type": "stream",
          "text": [
            "\n"
          ],
          "name": "stderr"
        }
      ]
    },
    {
      "cell_type": "code",
      "metadata": {
        "id": "KMAgDEbxfw4_",
        "outputId": "1816512a-f992-402d-8354-80134dbf16d9"
      },
      "source": [
        "# phi_d(u,p=1)\n",
        "print(infer.query(['U'], evidence={'P': 1}))"
      ],
      "execution_count": null,
      "outputs": [
        {
          "output_type": "stream",
          "text": [
            "Finding Elimination Order: : 100%|██████████| 3/3 [00:00<00:00, 1554.21it/s]\n",
            "Eliminating: D: 100%|██████████| 3/3 [00:00<00:00, 670.23it/s]"
          ],
          "name": "stderr"
        },
        {
          "output_type": "stream",
          "text": [
            "+------+----------+\n",
            "| U    |   phi(U) |\n",
            "+======+==========+\n",
            "| U(0) |   0.0604 |\n",
            "+------+----------+\n",
            "| U(1) |   0.9396 |\n",
            "+------+----------+\n"
          ],
          "name": "stdout"
        },
        {
          "output_type": "stream",
          "text": [
            "\n"
          ],
          "name": "stderr"
        }
      ]
    },
    {
      "cell_type": "code",
      "metadata": {
        "id": "gHUvjxxxfw5C",
        "outputId": "dd951e66-cc9a-4c56-ce6f-3c3c4f87fc4d"
      },
      "source": [
        "# phi_a(a,p=1)\n",
        "print(infer.query(['A'], evidence={'P': 1}))"
      ],
      "execution_count": null,
      "outputs": [
        {
          "output_type": "stream",
          "text": [
            "Finding Elimination Order: : 100%|██████████| 3/3 [00:00<00:00, 1113.33it/s]\n",
            "Eliminating: D: 100%|██████████| 3/3 [00:00<00:00, 390.58it/s]"
          ],
          "name": "stderr"
        },
        {
          "output_type": "stream",
          "text": [
            "+------+----------+\n",
            "| A    |   phi(A) |\n",
            "+======+==========+\n",
            "| A(0) |   0.0772 |\n",
            "+------+----------+\n",
            "| A(1) |   0.9228 |\n",
            "+------+----------+\n"
          ],
          "name": "stdout"
        },
        {
          "output_type": "stream",
          "text": [
            "\n"
          ],
          "name": "stderr"
        }
      ]
    },
    {
      "cell_type": "code",
      "metadata": {
        "id": "fsYLZvQ6fw5F",
        "outputId": "a4587815-0e7c-4f03-ff44-266d8a498b5f"
      },
      "source": [
        "# phi_d(u,p=0)\n",
        "print(infer.query(['U'], evidence={'P': 0}))"
      ],
      "execution_count": null,
      "outputs": [
        {
          "output_type": "stream",
          "text": [
            "Finding Elimination Order: : 100%|██████████| 3/3 [00:00<00:00, 1346.92it/s]\n",
            "Eliminating: D: 100%|██████████| 3/3 [00:00<00:00, 710.18it/s]"
          ],
          "name": "stderr"
        },
        {
          "output_type": "stream",
          "text": [
            "+------+----------+\n",
            "| U    |   phi(U) |\n",
            "+======+==========+\n",
            "| U(0) |   0.6340 |\n",
            "+------+----------+\n",
            "| U(1) |   0.3660 |\n",
            "+------+----------+\n"
          ],
          "name": "stdout"
        },
        {
          "output_type": "stream",
          "text": [
            "\n"
          ],
          "name": "stderr"
        }
      ]
    },
    {
      "cell_type": "code",
      "metadata": {
        "id": "g7VKezeEfw5I",
        "outputId": "de8a6b24-8331-4bc1-8f2a-eeed6ed577d0"
      },
      "source": [
        "# phi_a(a,p=0)\n",
        "print(infer.query(['A'], evidence={'P': 0}))"
      ],
      "execution_count": null,
      "outputs": [
        {
          "output_type": "stream",
          "text": [
            "Finding Elimination Order: : 100%|██████████| 3/3 [00:00<00:00, 1388.08it/s]\n",
            "Eliminating: D: 100%|██████████| 3/3 [00:00<00:00, 521.31it/s]"
          ],
          "name": "stderr"
        },
        {
          "output_type": "stream",
          "text": [
            "+------+----------+\n",
            "| A    |   phi(A) |\n",
            "+======+==========+\n",
            "| A(0) |   0.3353 |\n",
            "+------+----------+\n",
            "| A(1) |   0.6647 |\n",
            "+------+----------+\n"
          ],
          "name": "stdout"
        },
        {
          "output_type": "stream",
          "text": [
            "\n"
          ],
          "name": "stderr"
        }
      ]
    },
    {
      "cell_type": "code",
      "metadata": {
        "id": "6N4HCOBQfw5L",
        "outputId": "785395c5-8075-4970-fcd9-96f7e4d141f1"
      },
      "source": [
        "print(infer.query(['P'], evidence={'A': 1, 'H': 1}))"
      ],
      "execution_count": null,
      "outputs": [
        {
          "output_type": "stream",
          "text": [
            "Finding Elimination Order: : 100%|██████████| 2/2 [00:00<00:00, 567.80it/s]\n",
            "Eliminating: D: 100%|██████████| 2/2 [00:00<00:00, 501.29it/s]"
          ],
          "name": "stderr"
        },
        {
          "output_type": "stream",
          "text": [
            "+------+----------+\n",
            "| P    |   phi(P) |\n",
            "+======+==========+\n",
            "| P(0) |   0.3903 |\n",
            "+------+----------+\n",
            "| P(1) |   0.6097 |\n",
            "+------+----------+\n"
          ],
          "name": "stdout"
        },
        {
          "output_type": "stream",
          "text": [
            "\n"
          ],
          "name": "stderr"
        }
      ]
    },
    {
      "cell_type": "code",
      "metadata": {
        "id": "hf0j-Jkifw5O",
        "outputId": "e0200ba4-a5ef-46fa-f12b-ef74ce007542"
      },
      "source": [
        "p1=0.9*0.2*0.9228\n",
        "p2=0.2*0.8*0.6647\n",
        "p3=p1/(p1+p2)\n",
        "print('p(h=1|p=1)p(p=1)phi_u(a=1,p=1)={0:0.2f}'.format(p1))\n",
        "print('p(h=1|p=0)p(p=0)phi_u(a=1,p=0)={0:0.2f}'.format(p2))\n",
        "print('p(p=1|h=1,a=1)={0:0.4f}'.format(p3))"
      ],
      "execution_count": null,
      "outputs": [
        {
          "output_type": "stream",
          "text": [
            "p(h=1|p=1)p(p=1)phi_u(a=1,p=1)=0.17\n",
            "p(h=1|p=0)p(p=0)phi_u(a=1,p=0)=0.11\n",
            "p(p=1|h=1,a=1)=0.6097\n"
          ],
          "name": "stdout"
        }
      ]
    },
    {
      "cell_type": "markdown",
      "metadata": {
        "id": "izFqv5sZfw5R"
      },
      "source": [
        "# Red Asia"
      ]
    },
    {
      "cell_type": "code",
      "metadata": {
        "id": "cMPfwvIlfw5S"
      },
      "source": [
        "import wget\n",
        "import gzip\n",
        "f = wget.download('http://www.bnlearn.com/bnrepository/asia/asia.bif.gz')\n",
        "with gzip.open('asia.bif.gz', mode='rb') as f:\n",
        "    file_content=f.read()\n",
        "with open('asia.bif', mode='wb') as f:\n",
        "    f.write(file_content)"
      ],
      "execution_count": null,
      "outputs": []
    },
    {
      "cell_type": "code",
      "metadata": {
        "id": "YgEcODZRfw5V"
      },
      "source": [
        "from pgmpy.readwrite import BIFReader\n",
        "reader = BIFReader('asia.bif')\n",
        "!rm asia.bif\n",
        "!rm asia.bif.gz\n",
        "model = reader.get_model()"
      ],
      "execution_count": null,
      "outputs": []
    },
    {
      "cell_type": "code",
      "metadata": {
        "id": "o4kdpxryfw5Y"
      },
      "source": [
        "#reader=BIFReader('data/asia.bif')\n",
        "#model=reader.get_model()"
      ],
      "execution_count": null,
      "outputs": []
    },
    {
      "cell_type": "code",
      "metadata": {
        "id": "kwp0Ei9Hfw5b",
        "outputId": "ff0092c9-4463-4e44-c7b1-069e535fff3a"
      },
      "source": [
        "model.nodes()"
      ],
      "execution_count": null,
      "outputs": [
        {
          "output_type": "execute_result",
          "data": {
            "text/plain": [
              "NodeView(('asia', 'tub', 'smoke', 'lung', 'bronc', 'either', 'xray', 'dysp'))"
            ]
          },
          "metadata": {
            "tags": []
          },
          "execution_count": 3
        }
      ]
    },
    {
      "cell_type": "code",
      "metadata": {
        "id": "0tOsjHoFfw5e",
        "outputId": "4ce81f4b-a64c-47b4-db9a-5e63f56999a5"
      },
      "source": [
        "from IPython.display import Image\n",
        "Image('data/asia.png')"
      ],
      "execution_count": null,
      "outputs": [
        {
          "output_type": "execute_result",
          "data": {
            "image/png": "[encoded data removed]",
            "text/plain": [
              "<IPython.core.display.Image object>"
            ]
          },
          "metadata": {
            "tags": []
          },
          "execution_count": 4
        }
      ]
    },
    {
      "cell_type": "code",
      "metadata": {
        "id": "eg1qz7D2fw5g",
        "outputId": "416f01e0-740e-4580-855b-4343db97457f"
      },
      "source": [
        "model.is_active_trail('tub', 'smoke', observed='dysp')"
      ],
      "execution_count": null,
      "outputs": [
        {
          "output_type": "execute_result",
          "data": {
            "text/plain": [
              "True"
            ]
          },
          "metadata": {
            "tags": []
          },
          "execution_count": 8
        }
      ]
    },
    {
      "cell_type": "code",
      "metadata": {
        "id": "RfjqXOd_fw5l",
        "outputId": "08ebd846-bb39-4588-88ce-a4c7e6c3b42a"
      },
      "source": [
        "model.is_active_trail('tub', 'smoke')"
      ],
      "execution_count": null,
      "outputs": [
        {
          "output_type": "execute_result",
          "data": {
            "text/plain": [
              "False"
            ]
          },
          "metadata": {
            "tags": []
          },
          "execution_count": 9
        }
      ]
    },
    {
      "cell_type": "code",
      "metadata": {
        "id": "nTLADvxpfw5p",
        "outputId": "7d2a3b7d-f23d-4c94-fff5-dad963ee96c4"
      },
      "source": [
        "model.is_active_trail('lung', 'bronc', observed='smoke')"
      ],
      "execution_count": null,
      "outputs": [
        {
          "output_type": "execute_result",
          "data": {
            "text/plain": [
              "False"
            ]
          },
          "metadata": {
            "tags": []
          },
          "execution_count": 6
        }
      ]
    },
    {
      "cell_type": "code",
      "metadata": {
        "id": "skp58s_rfw5r",
        "outputId": "1ffd0403-05ea-4d6f-8f86-9fdc702e93f1"
      },
      "source": [
        "model.is_active_trail('asia', 'smoke', observed='lung')"
      ],
      "execution_count": null,
      "outputs": [
        {
          "output_type": "execute_result",
          "data": {
            "text/plain": [
              "False"
            ]
          },
          "metadata": {
            "tags": []
          },
          "execution_count": 7
        }
      ]
    },
    {
      "cell_type": "code",
      "metadata": {
        "id": "4ykzJT3ffw5u",
        "outputId": "3b297dce-0c8d-40f0-b375-9825a786a426"
      },
      "source": [
        "model.is_active_trail('asia', 'smoke', observed=['lung','dysp'])"
      ],
      "execution_count": null,
      "outputs": [
        {
          "output_type": "execute_result",
          "data": {
            "text/plain": [
              "True"
            ]
          },
          "metadata": {
            "tags": []
          },
          "execution_count": 8
        }
      ]
    },
    {
      "cell_type": "code",
      "metadata": {
        "id": "si7Y2QFlfw5x",
        "outputId": "423c1d25-f9e6-4d63-dda6-74f7cfa7188b"
      },
      "source": [
        "model.get_independencies()"
      ],
      "execution_count": null,
      "outputs": [
        {
          "output_type": "execute_result",
          "data": {
            "text/plain": [
              "(asia _|_ lung, bronc, smoke)\n",
              "(asia _|_ xray | either)\n",
              "(asia _|_ bronc, smoke | lung)\n",
              "(asia _|_ bronc, lung | smoke)\n",
              "(asia _|_ lung, smoke | bronc)\n",
              "(asia _|_ bronc, either, xray, dysp, lung, smoke | tub)\n",
              "(asia _|_ dysp, xray, bronc, smoke | either, lung)\n",
              "(asia _|_ dysp, xray, bronc | either, smoke)\n",
              "(asia _|_ xray | dysp, either)\n",
              "(asia _|_ dysp, xray | either, bronc)\n",
              "(asia _|_ bronc, xray, dysp, lung, smoke | either, tub)\n",
              "(asia _|_ bronc, smoke | xray, lung)\n",
              "(asia _|_ bronc | lung, smoke)\n",
              "(asia _|_ smoke | bronc, lung)\n",
              "(asia _|_ xray, either, dysp, bronc, smoke | lung, tub)\n",
              "(asia _|_ bronc | xray, smoke)\n",
              "(asia _|_ bronc, either, dysp, lung, smoke | xray, tub)\n",
              "(asia _|_ lung | bronc, smoke)\n",
              "(asia _|_ bronc, xray, either, dysp, lung | tub, smoke)\n",
              "(asia _|_ bronc, xray, either, lung, smoke | dysp, tub)\n",
              "(asia _|_ xray, either, dysp, lung, smoke | bronc, tub)\n",
              "(asia _|_ dysp, bronc, smoke | xray, either, lung)\n",
              "(asia _|_ dysp, xray, bronc | either, lung, smoke)\n",
              "(asia _|_ xray, bronc, smoke | dysp, either, lung)\n",
              "(asia _|_ dysp, xray, smoke | bronc, either, lung)\n",
              "(asia _|_ dysp, xray, bronc, smoke | either, lung, tub)\n",
              "(asia _|_ dysp, bronc | xray, either, smoke)\n",
              "(asia _|_ dysp | xray, either, bronc)\n",
              "(asia _|_ dysp, lung, bronc, smoke | xray, either, tub)\n",
              "(asia _|_ xray, bronc | dysp, either, smoke)\n",
              "(asia _|_ dysp, xray | either, bronc, smoke)\n",
              "(asia _|_ dysp, xray, lung, bronc | either, tub, smoke)\n",
              "(asia _|_ xray | dysp, either, bronc)\n",
              "(asia _|_ xray, lung, bronc, smoke | dysp, either, tub)\n",
              "(asia _|_ dysp, xray, lung, smoke | either, bronc, tub)\n",
              "(asia _|_ bronc | xray, lung, smoke)\n",
              "(asia _|_ smoke | bronc, xray, lung)\n",
              "(asia _|_ dysp, either, bronc, smoke | xray, lung, tub)\n",
              "(asia _|_ bronc, dysp, xray, either | tub, lung, smoke)\n",
              "(asia _|_ smoke | bronc, dysp, lung)\n",
              "(asia _|_ bronc, xray, either, smoke | dysp, lung, tub)\n",
              "(asia _|_ dysp, xray, either, smoke | bronc, lung, tub)\n",
              "(asia _|_ dysp, either, lung, bronc | xray, tub, smoke)\n",
              "(asia _|_ either, lung, bronc, smoke | dysp, xray, tub)\n",
              "(asia _|_ dysp, either, lung, smoke | xray, bronc, tub)\n",
              "(asia _|_ either, xray, lung, bronc | dysp, tub, smoke)\n",
              "(asia _|_ dysp, xray, lung, either | tub, bronc, smoke)\n",
              "(asia _|_ xray, lung, either, smoke | dysp, bronc, tub)\n",
              "(asia _|_ dysp, bronc | xray, either, lung, smoke)\n",
              "(asia _|_ bronc, smoke | dysp, xray, either, lung)\n",
              "(asia _|_ dysp, smoke | bronc, xray, either, lung)\n",
              "(asia _|_ dysp, bronc, smoke | xray, either, lung, tub)\n",
              "(asia _|_ xray, bronc | dysp, either, lung, smoke)\n",
              "(asia _|_ dysp, xray | bronc, either, lung, smoke)\n",
              "(asia _|_ dysp, xray, bronc | tub, either, lung, smoke)\n",
              "(asia _|_ xray, smoke | bronc, dysp, either, lung)\n",
              "(asia _|_ xray, bronc, smoke | dysp, either, lung, tub)\n",
              "(asia _|_ dysp, xray, smoke | bronc, either, lung, tub)\n",
              "(asia _|_ bronc | dysp, xray, either, smoke)\n",
              "(asia _|_ dysp | xray, either, bronc, smoke)\n",
              "(asia _|_ dysp, lung, bronc | xray, either, tub, smoke)\n",
              "(asia _|_ lung, bronc, smoke | dysp, xray, either, tub)\n",
              "(asia _|_ dysp, lung, smoke | xray, either, bronc, tub)\n",
              "(asia _|_ xray | dysp, either, bronc, smoke)\n",
              "(asia _|_ xray, lung, bronc | dysp, either, tub, smoke)\n",
              "(asia _|_ dysp, xray, lung | tub, either, bronc, smoke)\n",
              "(asia _|_ xray, lung, smoke | dysp, either, bronc, tub)\n",
              "(asia _|_ dysp, either, bronc | tub, xray, lung, smoke)\n",
              "(asia _|_ smoke | bronc, dysp, xray, lung)\n",
              "(asia _|_ either, bronc, smoke | dysp, xray, lung, tub)\n",
              "(asia _|_ dysp, either, smoke | bronc, xray, lung, tub)\n",
              "(asia _|_ bronc, xray, either | tub, dysp, lung, smoke)\n",
              "(asia _|_ dysp, xray, either | tub, bronc, lung, smoke)\n",
              "(asia _|_ xray, either, smoke | bronc, dysp, lung, tub)\n",
              "(asia _|_ either, lung, bronc | dysp, xray, tub, smoke)\n",
              "(asia _|_ dysp, either, lung | tub, xray, bronc, smoke)\n",
              "(asia _|_ either, lung, smoke | dysp, xray, bronc, tub)\n",
              "(asia _|_ xray, lung, either | tub, dysp, bronc, smoke)\n",
              "(asia _|_ bronc | xray, either, smoke, dysp, lung)\n",
              "(asia _|_ dysp | xray, either, lung, smoke, bronc)\n",
              "(asia _|_ dysp, bronc | xray, either, smoke, lung, tub)\n",
              "(asia _|_ smoke | xray, either, lung, dysp, bronc)\n",
              "(asia _|_ bronc, smoke | xray, either, dysp, lung, tub)\n",
              "(asia _|_ dysp, smoke | xray, either, lung, bronc, tub)\n",
              "(asia _|_ xray | either, lung, smoke, dysp, bronc)\n",
              "(asia _|_ xray, bronc | either, smoke, dysp, lung, tub)\n",
              "(asia _|_ dysp, xray | either, lung, smoke, bronc, tub)\n",
              "(asia _|_ xray, smoke | either, lung, dysp, bronc, tub)\n",
              "(asia _|_ lung, bronc | xray, either, smoke, dysp, tub)\n",
              "(asia _|_ dysp, lung | xray, either, smoke, bronc, tub)\n",
              "(asia _|_ lung, smoke | xray, either, dysp, bronc, tub)\n",
              "(asia _|_ xray, lung | either, smoke, dysp, bronc, tub)\n",
              "(asia _|_ either, bronc | xray, smoke, dysp, lung, tub)\n",
              "(asia _|_ dysp, either | xray, lung, smoke, bronc, tub)\n",
              "(asia _|_ either, smoke | xray, lung, dysp, bronc, tub)\n",
              "(asia _|_ xray, either | lung, smoke, dysp, bronc, tub)\n",
              "(asia _|_ either, lung | xray, smoke, dysp, bronc, tub)\n",
              "(asia _|_ bronc | xray, either, smoke, dysp, lung, tub)\n",
              "(asia _|_ dysp | xray, either, lung, smoke, bronc, tub)\n",
              "(asia _|_ smoke | xray, either, lung, dysp, bronc, tub)\n",
              "(asia _|_ xray | either, lung, smoke, dysp, bronc, tub)\n",
              "(asia _|_ lung | xray, either, smoke, dysp, bronc, tub)\n",
              "(asia _|_ either | xray, lung, smoke, dysp, bronc, tub)\n",
              "(tub _|_ lung, bronc, smoke)\n",
              "(tub _|_ xray | either)\n",
              "(tub _|_ bronc, smoke | lung)\n",
              "(tub _|_ lung, bronc, smoke | asia)\n",
              "(tub _|_ lung, bronc | smoke)\n",
              "(tub _|_ lung, smoke | bronc)\n",
              "(tub _|_ dysp, xray, bronc, smoke | either, lung)\n",
              "(tub _|_ xray | either, asia)\n",
              "(tub _|_ dysp, xray, bronc | either, smoke)\n",
              "(tub _|_ xray | dysp, either)\n",
              "(tub _|_ dysp, xray | either, bronc)\n",
              "(tub _|_ bronc, smoke | xray, lung)\n",
              "(tub _|_ bronc, smoke | asia, lung)\n",
              "(tub _|_ bronc | lung, smoke)\n",
              "(tub _|_ smoke | bronc, lung)\n",
              "(tub _|_ bronc | xray, smoke)\n",
              "(tub _|_ bronc, lung | asia, smoke)\n",
              "(tub _|_ lung, smoke | bronc, asia)\n",
              "(tub _|_ lung | bronc, smoke)\n",
              "(tub _|_ dysp, bronc, smoke | xray, either, lung)\n",
              "(tub _|_ dysp, xray, bronc, smoke | either, asia, lung)\n",
              "(tub _|_ dysp, xray, bronc | either, lung, smoke)\n",
              "(tub _|_ xray, bronc, smoke | dysp, either, lung)\n",
              "(tub _|_ dysp, xray, smoke | bronc, either, lung)\n",
              "(tub _|_ dysp, bronc | xray, either, smoke)\n",
              "(tub _|_ dysp | xray, either, bronc)\n",
              "(tub _|_ dysp, xray, bronc | either, asia, smoke)\n",
              "(tub _|_ xray | dysp, either, asia)\n",
              "(tub _|_ dysp, xray | bronc, either, asia)\n",
              "(tub _|_ xray, bronc | dysp, either, smoke)\n",
              "(tub _|_ dysp, xray | either, bronc, smoke)\n",
              "(tub _|_ xray | dysp, either, bronc)\n",
              "(tub _|_ bronc, smoke | xray, asia, lung)\n",
              "(tub _|_ bronc | xray, lung, smoke)\n",
              "(tub _|_ smoke | bronc, xray, lung)\n",
              "(tub _|_ bronc | asia, lung, smoke)\n",
              "(tub _|_ smoke | bronc, asia, lung)\n",
              "(tub _|_ smoke | bronc, dysp, lung)\n",
              "(tub _|_ bronc | xray, asia, smoke)\n",
              "(tub _|_ lung | bronc, asia, smoke)\n",
              "(tub _|_ dysp, bronc, smoke | xray, either, asia, lung)\n",
              "(tub _|_ dysp, bronc | xray, either, lung, smoke)\n",
              "(tub _|_ bronc, smoke | dysp, xray, either, lung)\n",
              "(tub _|_ dysp, smoke | bronc, xray, either, lung)\n",
              "(tub _|_ dysp, xray, bronc | either, asia, lung, smoke)\n",
              "(tub _|_ xray, bronc, smoke | dysp, either, asia, lung)\n",
              "(tub _|_ dysp, xray, smoke | bronc, either, asia, lung)\n",
              "(tub _|_ xray, bronc | dysp, either, lung, smoke)\n",
              "(tub _|_ dysp, xray | bronc, either, lung, smoke)\n",
              "(tub _|_ xray, smoke | bronc, dysp, either, lung)\n",
              "(tub _|_ dysp, bronc | xray, either, asia, smoke)\n",
              "(tub _|_ dysp | bronc, xray, either, asia)\n",
              "(tub _|_ bronc | dysp, xray, either, smoke)\n",
              "(tub _|_ dysp | xray, either, bronc, smoke)\n",
              "(tub _|_ xray, bronc | dysp, either, asia, smoke)\n",
              "(tub _|_ dysp, xray | bronc, either, asia, smoke)\n",
              "(tub _|_ xray | bronc, dysp, either, asia)\n",
              "(tub _|_ xray | dysp, either, bronc, smoke)\n",
              "(tub _|_ bronc | xray, asia, lung, smoke)\n",
              "(tub _|_ smoke | bronc, xray, asia, lung)\n",
              "(tub _|_ smoke | bronc, dysp, xray, lung)\n",
              "(tub _|_ smoke | bronc, dysp, asia, lung)\n",
              "(tub _|_ dysp, bronc | xray, either, asia, smoke, lung)\n",
              "(tub _|_ bronc, smoke | xray, either, asia, dysp, lung)\n",
              "(tub _|_ dysp, smoke | xray, either, lung, asia, bronc)\n",
              "(tub _|_ bronc | xray, either, smoke, dysp, lung)\n",
              "(tub _|_ dysp | xray, either, lung, smoke, bronc)\n",
              "(tub _|_ smoke | xray, either, lung, dysp, bronc)\n",
              "(tub _|_ xray, bronc | either, asia, smoke, dysp, lung)\n",
              "(tub _|_ dysp, xray | either, lung, asia, smoke, bronc)\n",
              "(tub _|_ xray, smoke | either, lung, asia, dysp, bronc)\n",
              "(tub _|_ xray | either, lung, smoke, dysp, bronc)\n",
              "(tub _|_ bronc | xray, either, asia, smoke, dysp)\n",
              "(tub _|_ dysp | xray, either, asia, smoke, bronc)\n",
              "(tub _|_ xray | either, asia, smoke, dysp, bronc)\n",
              "(tub _|_ smoke | xray, lung, asia, dysp, bronc)\n",
              "(tub _|_ bronc | xray, either, asia, smoke, dysp, lung)\n",
              "(tub _|_ dysp | bronc, xray, either, asia, smoke, lung)\n",
              "(tub _|_ smoke | bronc, xray, either, asia, dysp, lung)\n",
              "(tub _|_ xray | bronc, either, asia, smoke, dysp, lung)\n",
              "(smoke _|_ asia, tub)\n",
              "(smoke _|_ xray | either)\n",
              "(smoke _|_ xray, asia, either, tub | lung)\n",
              "(smoke _|_ tub | asia)\n",
              "(smoke _|_ asia, tub | bronc)\n",
              "(smoke _|_ asia | tub)\n",
              "(smoke _|_ xray, asia, tub | either, lung)\n",
              "(smoke _|_ xray | either, asia)\n",
              "(smoke _|_ xray | dysp, either)\n",
              "(smoke _|_ dysp, xray | either, bronc)\n",
              "(smoke _|_ xray, asia | either, tub)\n",
              "(smoke _|_ either, asia, tub | xray, lung)\n",
              "(smoke _|_ xray, either, tub | asia, lung)\n",
              "(smoke _|_ xray, either, dysp, asia, tub | bronc, lung)\n",
              "(smoke _|_ xray, asia, either | lung, tub)\n",
              "(smoke _|_ asia | xray, tub)\n",
              "(smoke _|_ tub | bronc, asia)\n",
              "(smoke _|_ asia | dysp, tub)\n",
              "(smoke _|_ asia | bronc, tub)\n",
              "(smoke _|_ asia, tub | xray, either, lung)\n",
              "(smoke _|_ xray, tub | either, asia, lung)\n",
              "(smoke _|_ xray, asia, tub | dysp, either, lung)\n",
              "(smoke _|_ dysp, xray, asia, tub | bronc, either, lung)\n",
              "(smoke _|_ xray, asia | either, lung, tub)\n",
              "(smoke _|_ dysp | xray, either, bronc)\n",
              "(smoke _|_ asia | xray, either, tub)\n",
              "(smoke _|_ xray | dysp, either, asia)\n",
              "(smoke _|_ dysp, xray | bronc, either, asia)\n",
              "(smoke _|_ xray | either, asia, tub)\n",
              "(smoke _|_ xray | dysp, either, bronc)\n",
              "(smoke _|_ xray, asia | dysp, either, tub)\n",
              "(smoke _|_ dysp, xray, asia | either, bronc, tub)\n",
              "(smoke _|_ either, tub | xray, asia, lung)\n",
              "(smoke _|_ dysp, either, asia, tub | bronc, xray, lung)\n",
              "(smoke _|_ either, asia | xray, lung, tub)\n",
              "(smoke _|_ dysp, xray, either, tub | bronc, asia, lung)\n",
              "(smoke _|_ xray, either | asia, lung, tub)\n",
              "(smoke _|_ xray, asia, either, tub | bronc, dysp, lung)\n",
              "(smoke _|_ asia | dysp, lung, tub)\n",
              "(smoke _|_ dysp, xray, asia, either | bronc, lung, tub)\n",
              "(smoke _|_ asia | dysp, xray, tub)\n",
              "(smoke _|_ asia | xray, bronc, tub)\n",
              "(smoke _|_ asia | dysp, bronc, tub)\n",
              "(smoke _|_ tub | xray, either, asia, lung)\n",
              "(smoke _|_ asia, tub | dysp, xray, either, lung)\n",
              "(smoke _|_ dysp, asia, tub | bronc, xray, either, lung)\n",
              "(smoke _|_ asia | xray, either, lung, tub)\n",
              "(smoke _|_ xray, tub | dysp, either, asia, lung)\n",
              "(smoke _|_ dysp, xray, tub | bronc, either, asia, lung)\n",
              "(smoke _|_ xray | either, asia, lung, tub)\n",
              "(smoke _|_ xray, asia, tub | bronc, dysp, either, lung)\n",
              "(smoke _|_ xray, asia | dysp, either, lung, tub)\n",
              "(smoke _|_ dysp, xray, asia | bronc, either, lung, tub)\n",
              "(smoke _|_ dysp | bronc, xray, either, asia)\n",
              "(smoke _|_ asia | dysp, xray, either, tub)\n",
              "(smoke _|_ dysp, asia | xray, either, bronc, tub)\n",
              "(smoke _|_ xray | bronc, dysp, either, asia)\n",
              "(smoke _|_ xray | dysp, either, asia, tub)\n",
              "(smoke _|_ dysp, xray | bronc, either, asia, tub)\n",
              "(smoke _|_ xray, asia | dysp, either, bronc, tub)\n",
              "(smoke _|_ dysp, either, tub | bronc, xray, asia, lung)\n",
              "(smoke _|_ either | xray, asia, lung, tub)\n",
              "(smoke _|_ either, asia, tub | bronc, dysp, xray, lung)\n",
              "(smoke _|_ asia | dysp, xray, lung, tub)\n",
              "(smoke _|_ dysp, either, asia | bronc, xray, lung, tub)\n",
              "(smoke _|_ xray, either, tub | bronc, dysp, asia, lung)\n",
              "(smoke _|_ dysp, xray, either | bronc, asia, lung, tub)\n",
              "(smoke _|_ xray, asia, either | bronc, dysp, lung, tub)\n",
              "(smoke _|_ asia | dysp, xray, bronc, tub)\n",
              "(smoke _|_ tub | xray, either, asia, dysp, lung)\n",
              "(smoke _|_ dysp, tub | xray, either, lung, asia, bronc)\n",
              "(smoke _|_ asia, tub | xray, either, lung, dysp, bronc)\n",
              "(smoke _|_ asia | xray, either, dysp, lung, tub)\n",
              "(smoke _|_ dysp, asia | xray, either, lung, bronc, tub)\n",
              "(smoke _|_ xray, tub | either, lung, asia, dysp, bronc)\n",
              "(smoke _|_ xray | either, asia, dysp, lung, tub)\n",
              "(smoke _|_ dysp, xray | either, lung, asia, bronc, tub)\n",
              "(smoke _|_ xray, asia | either, lung, dysp, bronc, tub)\n",
              "(smoke _|_ dysp | xray, either, asia, bronc, tub)\n",
              "(smoke _|_ asia | xray, either, dysp, bronc, tub)\n",
              "(smoke _|_ xray | either, asia, dysp, bronc, tub)\n",
              "(smoke _|_ either, tub | xray, lung, asia, dysp, bronc)\n",
              "(smoke _|_ dysp, either | xray, lung, asia, bronc, tub)\n",
              "(smoke _|_ either, asia | xray, lung, dysp, bronc, tub)\n",
              "(smoke _|_ xray, either | lung, asia, dysp, bronc, tub)\n",
              "(smoke _|_ tub | bronc, xray, either, asia, dysp, lung)\n",
              "(smoke _|_ dysp | xray, either, lung, asia, bronc, tub)\n",
              "(smoke _|_ asia | xray, either, lung, dysp, bronc, tub)\n",
              "(smoke _|_ xray | either, lung, asia, dysp, bronc, tub)\n",
              "(smoke _|_ either | xray, lung, asia, dysp, bronc, tub)\n",
              "(lung _|_ asia, tub)\n",
              "(lung _|_ xray | either)\n",
              "(lung _|_ tub | asia)\n",
              "(lung _|_ bronc, asia, tub | smoke)\n",
              "(lung _|_ asia, tub | bronc)\n",
              "(lung _|_ asia | tub)\n",
              "(lung _|_ xray | either, asia)\n",
              "(lung _|_ dysp, xray, bronc | either, smoke)\n",
              "(lung _|_ xray | dysp, either)\n",
              "(lung _|_ dysp, xray | either, bronc)\n",
              "(lung _|_ xray, asia | either, tub)\n",
              "(lung _|_ bronc | xray, smoke)\n",
              "(lung _|_ asia | xray, tub)\n",
              "(lung _|_ bronc, tub | asia, smoke)\n",
              "(lung _|_ tub | bronc, asia)\n",
              "(lung _|_ asia, tub | bronc, smoke)\n",
              "(lung _|_ bronc, asia | tub, smoke)\n",
              "(lung _|_ asia | dysp, tub)\n",
              "(lung _|_ asia | bronc, tub)\n",
              "(lung _|_ dysp, bronc | xray, either, smoke)\n",
              "(lung _|_ dysp | xray, either, bronc)\n",
              "(lung _|_ asia | xray, either, tub)\n",
              "(lung _|_ dysp, xray, bronc | either, asia, smoke)\n",
              "(lung _|_ xray | dysp, either, asia)\n",
              "(lung _|_ dysp, xray | bronc, either, asia)\n",
              "(lung _|_ xray | either, asia, tub)\n",
              "(lung _|_ xray, bronc | dysp, either, smoke)\n",
              "(lung _|_ dysp, xray | either, bronc, smoke)\n",
              "(lung _|_ dysp, xray, asia, bronc | either, tub, smoke)\n",
              "(lung _|_ xray | dysp, either, bronc)\n",
              "(lung _|_ xray, asia | dysp, either, tub)\n",
              "(lung _|_ dysp, xray, asia | either, bronc, tub)\n",
              "(lung _|_ bronc | xray, asia, smoke)\n",
              "(lung _|_ asia, bronc | xray, tub, smoke)\n",
              "(lung _|_ asia | dysp, xray, tub)\n",
              "(lung _|_ asia | xray, bronc, tub)\n",
              "(lung _|_ tub | bronc, asia, smoke)\n",
              "(lung _|_ bronc | tub, asia, smoke)\n",
              "(lung _|_ asia | dysp, tub, smoke)\n",
              "(lung _|_ asia | tub, bronc, smoke)\n",
              "(lung _|_ asia | dysp, bronc, tub)\n",
              "(lung _|_ dysp, bronc | xray, either, asia, smoke)\n",
              "(lung _|_ dysp | bronc, xray, either, asia)\n",
              "(lung _|_ bronc | dysp, xray, either, smoke)\n",
              "(lung _|_ dysp | xray, either, bronc, smoke)\n",
              "(lung _|_ dysp, asia, bronc | xray, either, tub, smoke)\n",
              "(lung _|_ asia | dysp, xray, either, tub)\n",
              "(lung _|_ dysp, asia | xray, either, bronc, tub)\n",
              "(lung _|_ xray, bronc | dysp, either, asia, smoke)\n",
              "(lung _|_ dysp, xray | bronc, either, asia, smoke)\n",
              "(lung _|_ dysp, xray, bronc | tub, either, asia, smoke)\n",
              "(lung _|_ xray | bronc, dysp, either, asia)\n",
              "(lung _|_ xray | dysp, either, asia, tub)\n",
              "(lung _|_ dysp, xray | bronc, either, asia, tub)\n",
              "(lung _|_ xray | dysp, either, bronc, smoke)\n",
              "(lung _|_ xray, asia, bronc | dysp, either, tub, smoke)\n",
              "(lung _|_ dysp, xray, asia | tub, either, bronc, smoke)\n",
              "(lung _|_ xray, asia | dysp, either, bronc, tub)\n",
              "(lung _|_ bronc | tub, xray, asia, smoke)\n",
              "(lung _|_ asia | dysp, xray, tub, smoke)\n",
              "(lung _|_ asia | tub, xray, bronc, smoke)\n",
              "(lung _|_ asia | dysp, xray, bronc, tub)\n",
              "(lung _|_ asia | tub, dysp, bronc, smoke)\n",
              "(lung _|_ bronc | xray, either, asia, smoke, dysp)\n",
              "(lung _|_ dysp | xray, either, asia, smoke, bronc)\n",
              "(lung _|_ dysp, bronc | xray, either, asia, smoke, tub)\n",
              "(lung _|_ dysp | xray, either, asia, bronc, tub)\n",
              "(lung _|_ asia, bronc | xray, either, smoke, dysp, tub)\n",
              "(lung _|_ dysp, asia | xray, either, smoke, bronc, tub)\n",
              "(lung _|_ asia | xray, either, dysp, bronc, tub)\n",
              "(lung _|_ xray | either, asia, smoke, dysp, bronc)\n",
              "(lung _|_ xray, bronc | either, asia, smoke, dysp, tub)\n",
              "(lung _|_ dysp, xray | either, asia, smoke, bronc, tub)\n",
              "(lung _|_ xray | either, asia, dysp, bronc, tub)\n",
              "(lung _|_ xray, asia | either, smoke, dysp, bronc, tub)\n",
              "(lung _|_ asia | xray, smoke, dysp, bronc, tub)\n",
              "(lung _|_ bronc | xray, either, asia, smoke, dysp, tub)\n",
              "(lung _|_ dysp | xray, either, asia, smoke, bronc, tub)\n",
              "(lung _|_ asia | xray, either, smoke, dysp, bronc, tub)\n",
              "(lung _|_ xray | either, asia, smoke, dysp, bronc, tub)\n",
              "(bronc _|_ asia, tub)\n",
              "(bronc _|_ xray | either)\n",
              "(bronc _|_ xray, asia, either, tub | lung)\n",
              "(bronc _|_ tub | asia)\n",
              "(bronc _|_ xray, either, lung, asia, tub | smoke)\n",
              "(bronc _|_ asia | tub)\n",
              "(bronc _|_ xray, asia, tub | either, lung)\n",
              "(bronc _|_ xray | either, asia)\n",
              "(bronc _|_ xray, lung, asia, tub | either, smoke)\n",
              "(bronc _|_ xray | dysp, either)\n",
              "(bronc _|_ xray, asia | either, tub)\n",
              "(bronc _|_ either, asia, tub | xray, lung)\n",
              "(bronc _|_ xray, either, tub | asia, lung)\n",
              "(bronc _|_ xray, asia, either, tub | lung, smoke)\n",
              "(bronc _|_ xray, asia, either | lung, tub)\n",
              "(bronc _|_ either, lung, asia, tub | xray, smoke)\n",
              "(bronc _|_ asia | xray, tub)\n",
              "(bronc _|_ xray, lung, either, tub | asia, smoke)\n",
              "(bronc _|_ lung, xray, asia, either | tub, smoke)\n",
              "(bronc _|_ asia | dysp, tub)\n",
              "(bronc _|_ asia, tub | xray, either, lung)\n",
              "(bronc _|_ xray, tub | either, asia, lung)\n",
              "(bronc _|_ xray, asia, tub | either, lung, smoke)\n",
              "(bronc _|_ xray, asia, tub | dysp, either, lung)\n",
              "(bronc _|_ xray, asia | either, lung, tub)\n",
              "(bronc _|_ lung, asia, tub | xray, either, smoke)\n",
              "(bronc _|_ asia | xray, either, tub)\n",
              "(bronc _|_ xray, lung, tub | either, asia, smoke)\n",
              "(bronc _|_ xray | dysp, either, asia)\n",
              "(bronc _|_ xray | either, asia, tub)\n",
              "(bronc _|_ xray, lung, asia, tub | dysp, either, smoke)\n",
              "(bronc _|_ xray, lung, asia | either, tub, smoke)\n",
              "(bronc _|_ xray, asia | dysp, either, tub)\n",
              "(bronc _|_ either, tub | xray, asia, lung)\n",
              "(bronc _|_ either, asia, tub | xray, lung, smoke)\n",
              "(bronc _|_ either, asia | xray, lung, tub)\n",
              "(bronc _|_ xray, either, tub | asia, lung, smoke)\n",
              "(bronc _|_ xray, either | asia, lung, tub)\n",
              "(bronc _|_ xray, asia, either | tub, lung, smoke)\n",
              "(bronc _|_ asia | dysp, lung, tub)\n",
              "(bronc _|_ either, lung, tub | xray, asia, smoke)\n",
              "(bronc _|_ either, lung, asia | xray, tub, smoke)\n",
              "(bronc _|_ asia | dysp, xray, tub)\n",
              "(bronc _|_ xray, lung, either | tub, asia, smoke)\n",
              "(bronc _|_ asia | dysp, tub, smoke)\n",
              "(bronc _|_ tub | xray, either, asia, lung)\n",
              "(bronc _|_ asia, tub | xray, either, lung, smoke)\n",
              "(bronc _|_ asia, tub | dysp, xray, either, lung)\n",
              "(bronc _|_ asia | xray, either, lung, tub)\n",
              "(bronc _|_ xray, tub | either, asia, lung, smoke)\n",
              "(bronc _|_ xray, tub | dysp, either, asia, lung)\n",
              "(bronc _|_ xray | either, asia, lung, tub)\n",
              "(bronc _|_ xray, asia, tub | dysp, either, lung, smoke)\n",
              "(bronc _|_ xray, asia | tub, either, lung, smoke)\n",
              "(bronc _|_ xray, asia | dysp, either, lung, tub)\n",
              "(bronc _|_ lung, tub | xray, either, asia, smoke)\n",
              "(bronc _|_ lung, asia, tub | dysp, xray, either, smoke)\n",
              "(bronc _|_ lung, asia | xray, either, tub, smoke)\n",
              "(bronc _|_ asia | dysp, xray, either, tub)\n",
              "(bronc _|_ xray, lung, tub | dysp, either, asia, smoke)\n",
              "(bronc _|_ xray, lung | tub, either, asia, smoke)\n",
              "(bronc _|_ xray | dysp, either, asia, tub)\n",
              "(bronc _|_ xray, lung, asia | dysp, either, tub, smoke)\n",
              "(bronc _|_ either, tub | xray, asia, lung, smoke)\n",
              "(bronc _|_ either | xray, asia, lung, tub)\n",
              "(bronc _|_ either, asia | tub, xray, lung, smoke)\n",
              "(bronc _|_ asia | dysp, xray, lung, tub)\n",
              "(bronc _|_ xray, either | tub, asia, lung, smoke)\n",
              "(bronc _|_ asia | tub, dysp, lung, smoke)\n",
              "(bronc _|_ either, lung | tub, xray, asia, smoke)\n",
              "(bronc _|_ asia | dysp, xray, tub, smoke)\n",
              "(bronc _|_ tub | xray, either, asia, smoke, lung)\n",
              "(bronc _|_ tub | xray, either, asia, dysp, lung)\n",
              "(bronc _|_ asia, tub | xray, either, smoke, dysp, lung)\n",
              "(bronc _|_ asia | xray, either, smoke, lung, tub)\n",
              "(bronc _|_ asia | xray, either, dysp, lung, tub)\n",
              "(bronc _|_ xray, tub | either, asia, smoke, dysp, lung)\n",
              "(bronc _|_ xray | either, asia, smoke, lung, tub)\n",
              "(bronc _|_ xray | either, asia, dysp, lung, tub)\n",
              "(bronc _|_ xray, asia | either, smoke, dysp, lung, tub)\n",
              "(bronc _|_ lung, tub | xray, either, asia, smoke, dysp)\n",
              "(bronc _|_ lung | xray, either, asia, smoke, tub)\n",
              "(bronc _|_ lung, asia | xray, either, smoke, dysp, tub)\n",
              "(bronc _|_ xray, lung | either, asia, smoke, dysp, tub)\n",
              "(bronc _|_ either | xray, asia, smoke, lung, tub)\n",
              "(bronc _|_ asia | xray, smoke, dysp, lung, tub)\n",
              "(bronc _|_ tub | xray, either, asia, smoke, dysp, lung)\n",
              "(bronc _|_ asia | xray, either, smoke, dysp, lung, tub)\n",
              "(bronc _|_ xray | either, asia, smoke, dysp, lung, tub)\n",
              "(bronc _|_ lung | xray, either, asia, smoke, dysp, tub)\n",
              "(either _|_ bronc, smoke | lung)\n",
              "(either _|_ bronc | smoke)\n",
              "(either _|_ asia | tub)\n",
              "(either _|_ bronc, smoke | xray, lung)\n",
              "(either _|_ bronc, smoke | asia, lung)\n",
              "(either _|_ bronc | lung, smoke)\n",
              "(either _|_ smoke | bronc, lung)\n",
              "(either _|_ bronc, asia, smoke | lung, tub)\n",
              "(either _|_ bronc | xray, smoke)\n",
              "(either _|_ asia | xray, tub)\n",
              "(either _|_ bronc | asia, smoke)\n",
              "(either _|_ bronc, asia | tub, smoke)\n",
              "(either _|_ asia | dysp, tub)\n",
              "(either _|_ asia | bronc, tub)\n",
              "(either _|_ bronc, smoke | xray, asia, lung)\n",
              "(either _|_ bronc | xray, lung, smoke)\n",
              "(either _|_ smoke | bronc, xray, lung)\n",
              "(either _|_ asia, bronc, smoke | xray, lung, tub)\n",
              "(either _|_ bronc | asia, lung, smoke)\n",
              "(either _|_ smoke | bronc, asia, lung)\n",
              "(either _|_ bronc, smoke | asia, lung, tub)\n",
              "(either _|_ asia, bronc | tub, lung, smoke)\n",
              "(either _|_ smoke | bronc, dysp, lung)\n",
              "(either _|_ asia | dysp, lung, tub)\n",
              "(either _|_ asia, smoke | bronc, lung, tub)\n",
              "(either _|_ bronc | xray, asia, smoke)\n",
              "(either _|_ asia, bronc | xray, tub, smoke)\n",
              "(either _|_ asia | dysp, xray, tub)\n",
              "(either _|_ asia | xray, bronc, tub)\n",
              "(either _|_ bronc | tub, asia, smoke)\n",
              "(either _|_ asia | dysp, tub, smoke)\n",
              "(either _|_ asia | tub, bronc, smoke)\n",
              "(either _|_ asia | dysp, bronc, tub)\n",
              "(either _|_ bronc | xray, asia, lung, smoke)\n",
              "(either _|_ smoke | bronc, xray, asia, lung)\n",
              "(either _|_ bronc, smoke | xray, asia, lung, tub)\n",
              "(either _|_ asia, bronc | tub, xray, lung, smoke)\n",
              "(either _|_ smoke | bronc, dysp, xray, lung)\n",
              "(either _|_ asia | dysp, xray, lung, tub)\n",
              "(either _|_ asia, smoke | bronc, xray, lung, tub)\n",
              "(either _|_ bronc | tub, asia, lung, smoke)\n",
              "(either _|_ smoke | bronc, dysp, asia, lung)\n",
              "(either _|_ smoke | bronc, asia, lung, tub)\n",
              "(either _|_ asia | tub, dysp, lung, smoke)\n",
              "(either _|_ asia | tub, bronc, lung, smoke)\n",
              "(either _|_ asia, smoke | bronc, dysp, lung, tub)\n",
              "(either _|_ bronc | tub, xray, asia, smoke)\n",
              "(either _|_ asia | dysp, xray, tub, smoke)\n",
              "(either _|_ asia | tub, xray, bronc, smoke)\n",
              "(either _|_ asia | dysp, xray, bronc, tub)\n",
              "(either _|_ asia | tub, dysp, bronc, smoke)\n",
              "(either _|_ bronc | xray, asia, smoke, lung, tub)\n",
              "(either _|_ smoke | xray, lung, asia, dysp, bronc)\n",
              "(either _|_ smoke | xray, lung, asia, bronc, tub)\n",
              "(either _|_ asia | xray, smoke, dysp, lung, tub)\n",
              "(either _|_ asia | xray, lung, smoke, bronc, tub)\n",
              "(either _|_ asia, smoke | xray, lung, dysp, bronc, tub)\n",
              "(either _|_ smoke | lung, asia, dysp, bronc, tub)\n",
              "(either _|_ asia | lung, smoke, dysp, bronc, tub)\n",
              "(either _|_ asia | xray, smoke, dysp, bronc, tub)\n",
              "(either _|_ smoke | xray, lung, asia, dysp, bronc, tub)\n",
              "(either _|_ asia | xray, lung, smoke, dysp, bronc, tub)\n",
              "(xray _|_ bronc, asia, tub, dysp, lung, smoke | either)\n",
              "(xray _|_ bronc, smoke | lung)\n",
              "(xray _|_ bronc | smoke)\n",
              "(xray _|_ asia | tub)\n",
              "(xray _|_ bronc, tub, dysp, asia, smoke | either, lung)\n",
              "(xray _|_ bronc, tub, dysp, lung, smoke | either, asia)\n",
              "(xray _|_ bronc, asia, dysp, lung, tub | either, smoke)\n",
              "(xray _|_ bronc, asia, tub, lung, smoke | dysp, either)\n",
              "(xray _|_ lung, tub, dysp, asia, smoke | either, bronc)\n",
              "(xray _|_ bronc, asia, dysp, lung, smoke | either, tub)\n",
              "(xray _|_ bronc, smoke | asia, lung)\n",
              "(xray _|_ bronc | lung, smoke)\n",
              "(xray _|_ smoke | bronc, lung)\n",
              "(xray _|_ bronc, asia, smoke | lung, tub)\n",
              "(xray _|_ bronc | asia, smoke)\n",
              "(xray _|_ bronc, asia | tub, smoke)\n",
              "(xray _|_ asia | dysp, tub)\n",
              "(xray _|_ asia | bronc, tub)\n",
              "(xray _|_ smoke, dysp, bronc, tub | either, asia, lung)\n",
              "(xray _|_ dysp, asia, bronc, tub | either, lung, smoke)\n",
              "(xray _|_ smoke, asia, bronc, tub | dysp, either, lung)\n",
              "(xray _|_ smoke, dysp, asia, tub | bronc, either, lung)\n",
              "(xray _|_ dysp, asia, bronc, smoke | either, lung, tub)\n",
              "(xray _|_ dysp, lung, bronc, tub | either, asia, smoke)\n",
              "(xray _|_ smoke, lung, bronc, tub | dysp, either, asia)\n",
              "(xray _|_ smoke, dysp, lung, tub | bronc, either, asia)\n",
              "(xray _|_ dysp, lung, bronc, smoke | either, asia, tub)\n",
              "(xray _|_ lung, asia, bronc, tub | dysp, either, smoke)\n",
              "(xray _|_ dysp, lung, asia, tub | either, bronc, smoke)\n",
              "(xray _|_ dysp, asia, bronc, lung | either, tub, smoke)\n",
              "(xray _|_ smoke, lung, asia, tub | dysp, either, bronc)\n",
              "(xray _|_ lung, asia, bronc, smoke | dysp, either, tub)\n",
              "(xray _|_ dysp, lung, asia, smoke | either, bronc, tub)\n",
              "(xray _|_ bronc | asia, lung, smoke)\n",
              "(xray _|_ smoke | bronc, asia, lung)\n",
              "(xray _|_ bronc, smoke | asia, lung, tub)\n",
              "(xray _|_ asia, bronc | tub, lung, smoke)\n",
              "(xray _|_ smoke | bronc, dysp, lung)\n",
              "(xray _|_ asia | dysp, lung, tub)\n",
              "(xray _|_ asia, smoke | bronc, lung, tub)\n",
              "(xray _|_ bronc | tub, asia, smoke)\n",
              "(xray _|_ asia | dysp, tub, smoke)\n",
              "(xray _|_ asia | tub, bronc, smoke)\n",
              "(xray _|_ asia | dysp, bronc, tub)\n",
              "(xray _|_ dysp, bronc, tub | either, asia, lung, smoke)\n",
              "(xray _|_ smoke, bronc, tub | dysp, either, asia, lung)\n",
              "(xray _|_ dysp, smoke, tub | bronc, either, asia, lung)\n",
              "(xray _|_ dysp, bronc, smoke | either, asia, lung, tub)\n",
              "(xray _|_ asia, bronc, tub | dysp, either, lung, smoke)\n",
              "(xray _|_ dysp, asia, tub | bronc, either, lung, smoke)\n",
              "(xray _|_ dysp, asia, bronc | tub, either, lung, smoke)\n",
              "(xray _|_ smoke, asia, tub | bronc, dysp, either, lung)\n",
              "(xray _|_ asia, bronc, smoke | dysp, either, lung, tub)\n",
              "(xray _|_ dysp, asia, smoke | bronc, either, lung, tub)\n",
              "(xray _|_ lung, bronc, tub | dysp, either, asia, smoke)\n",
              "(xray _|_ dysp, lung, tub | bronc, either, asia, smoke)\n",
              "(xray _|_ dysp, lung, bronc | tub, either, asia, smoke)\n",
              "(xray _|_ smoke, lung, tub | bronc, dysp, either, asia)\n",
              "(xray _|_ lung, bronc, smoke | dysp, either, asia, tub)\n",
              "(xray _|_ dysp, lung, smoke | bronc, either, asia, tub)\n",
              "(xray _|_ lung, asia, tub | dysp, either, bronc, smoke)\n",
              "(xray _|_ lung, asia, bronc | dysp, either, tub, smoke)\n",
              "(xray _|_ dysp, lung, asia | tub, either, bronc, smoke)\n",
              "(xray _|_ lung, asia, smoke | dysp, either, bronc, tub)\n",
              "(xray _|_ bronc | tub, asia, lung, smoke)\n",
              "(xray _|_ smoke | bronc, dysp, asia, lung)\n",
              "(xray _|_ smoke | bronc, asia, lung, tub)\n",
              "(xray _|_ asia | tub, dysp, lung, smoke)\n",
              "(xray _|_ asia | tub, bronc, lung, smoke)\n",
              "(xray _|_ asia, smoke | bronc, dysp, lung, tub)\n",
              "(xray _|_ asia | tub, dysp, bronc, smoke)\n",
              "(xray _|_ bronc, tub | either, asia, smoke, dysp, lung)\n",
              "(xray _|_ dysp, tub | either, lung, asia, smoke, bronc)\n",
              "(xray _|_ dysp, bronc | either, asia, smoke, lung, tub)\n",
              "(xray _|_ smoke, tub | either, lung, asia, dysp, bronc)\n",
              "(xray _|_ bronc, smoke | either, asia, dysp, lung, tub)\n",
              "(xray _|_ dysp, smoke | either, lung, asia, bronc, tub)\n",
              "(xray _|_ asia, tub | either, lung, smoke, dysp, bronc)\n",
              "(xray _|_ asia, bronc | either, smoke, dysp, lung, tub)\n",
              "(xray _|_ dysp, asia | either, lung, smoke, bronc, tub)\n",
              "(xray _|_ asia, smoke | either, lung, dysp, bronc, tub)\n",
              "(xray _|_ lung, tub | either, asia, smoke, dysp, bronc)\n",
              "(xray _|_ lung, bronc | either, asia, smoke, dysp, tub)\n",
              "(xray _|_ dysp, lung | either, asia, smoke, bronc, tub)\n",
              "(xray _|_ lung, smoke | either, asia, dysp, bronc, tub)\n",
              "(xray _|_ lung, asia | either, smoke, dysp, bronc, tub)\n",
              "(xray _|_ smoke | lung, asia, dysp, bronc, tub)\n",
              "(xray _|_ asia | lung, smoke, dysp, bronc, tub)\n",
              "(xray _|_ tub | bronc, either, asia, smoke, dysp, lung)\n",
              "(xray _|_ bronc | either, asia, smoke, dysp, lung, tub)\n",
              "(xray _|_ dysp | either, lung, asia, smoke, bronc, tub)\n",
              "(xray _|_ smoke | either, lung, asia, dysp, bronc, tub)\n",
              "(xray _|_ asia | either, lung, smoke, dysp, bronc, tub)\n",
              "(xray _|_ lung | either, asia, smoke, dysp, bronc, tub)\n",
              "(dysp _|_ xray | either)\n",
              "(dysp _|_ asia | tub)\n",
              "(dysp _|_ xray, asia, tub | either, lung)\n",
              "(dysp _|_ xray | either, asia)\n",
              "(dysp _|_ xray, asia, lung, tub | either, smoke)\n",
              "(dysp _|_ xray, lung, tub, asia, smoke | either, bronc)\n",
              "(dysp _|_ xray, asia | either, tub)\n",
              "(dysp _|_ smoke | bronc, lung)\n",
              "(dysp _|_ asia | lung, tub)\n",
              "(dysp _|_ asia | xray, tub)\n",
              "(dysp _|_ asia | tub, smoke)\n",
              "(dysp _|_ asia | bronc, tub)\n",
              "(dysp _|_ asia, tub | xray, either, lung)\n",
              "(dysp _|_ xray, tub | either, asia, lung)\n",
              "(dysp _|_ xray, asia, tub | either, lung, smoke)\n",
              "(dysp _|_ smoke, xray, asia, tub | bronc, either, lung)\n",
              "(dysp _|_ xray, asia | either, lung, tub)\n",
              "(dysp _|_ lung, asia, tub | xray, either, smoke)\n",
              "(dysp _|_ smoke, lung, asia, tub | xray, either, bronc)\n",
              "(dysp _|_ asia | xray, either, tub)\n",
              "(dysp _|_ xray, lung, tub | either, asia, smoke)\n",
              "(dysp _|_ smoke, xray, lung, tub | bronc, either, asia)\n",
              "(dysp _|_ xray | either, asia, tub)\n",
              "(dysp _|_ xray, lung, asia, tub | either, bronc, smoke)\n",
              "(dysp _|_ xray, lung, asia | either, tub, smoke)\n",
              "(dysp _|_ xray, lung, asia, smoke | either, bronc, tub)\n",
              "(dysp _|_ smoke | bronc, xray, lung)\n",
              "(dysp _|_ asia | xray, lung, tub)\n",
              "(dysp _|_ smoke | bronc, asia, lung)\n",
              "(dysp _|_ asia | tub, lung, smoke)\n",
              "(dysp _|_ asia, smoke | bronc, lung, tub)\n",
              "(dysp _|_ asia | xray, tub, smoke)\n",
              "(dysp _|_ asia | xray, bronc, tub)\n",
              "(dysp _|_ asia | tub, bronc, smoke)\n",
              "(dysp _|_ tub | xray, either, asia, lung)\n",
              "(dysp _|_ asia, tub | xray, either, lung, smoke)\n",
              "(dysp _|_ smoke, asia, tub | bronc, xray, either, lung)\n",
              "(dysp _|_ asia | xray, either, lung, tub)\n",
              "(dysp _|_ xray, tub | either, asia, lung, smoke)\n",
              "(dysp _|_ xray, smoke, tub | bronc, either, asia, lung)\n",
              "(dysp _|_ xray | either, asia, lung, tub)\n",
              "(dysp _|_ xray, asia, tub | bronc, either, lung, smoke)\n",
              "(dysp _|_ xray, asia | tub, either, lung, smoke)\n",
              "(dysp _|_ xray, asia, smoke | bronc, either, lung, tub)\n",
              "(dysp _|_ lung, tub | xray, either, asia, smoke)\n",
              "(dysp _|_ smoke, lung, tub | bronc, xray, either, asia)\n",
              "(dysp _|_ lung, asia, tub | xray, either, bronc, smoke)\n",
              "(dysp _|_ lung, asia | xray, either, tub, smoke)\n",
              "(dysp _|_ lung, asia, smoke | xray, either, bronc, tub)\n",
              "(dysp _|_ xray, lung, tub | bronc, either, asia, smoke)\n",
              "(dysp _|_ xray, lung | tub, either, asia, smoke)\n",
              "(dysp _|_ xray, lung, smoke | bronc, either, asia, tub)\n",
              "(dysp _|_ xray, lung, asia | tub, either, bronc, smoke)\n",
              "(dysp _|_ smoke | bronc, xray, asia, lung)\n",
              "(dysp _|_ asia | tub, xray, lung, smoke)\n",
              "(dysp _|_ asia, smoke | bronc, xray, lung, tub)\n",
              "(dysp _|_ smoke | bronc, asia, lung, tub)\n",
              "(dysp _|_ asia | tub, bronc, lung, smoke)\n",
              "(dysp _|_ asia | tub, xray, bronc, smoke)\n",
              "(dysp _|_ tub | xray, either, asia, smoke, lung)\n",
              "(dysp _|_ smoke, tub | xray, either, lung, asia, bronc)\n",
              "(dysp _|_ asia, tub | xray, either, lung, smoke, bronc)\n",
              "(dysp _|_ asia | xray, either, smoke, lung, tub)\n",
              "(dysp _|_ asia, smoke | xray, either, lung, bronc, tub)\n",
              "(dysp _|_ xray, tub | either, lung, asia, smoke, bronc)\n",
              "(dysp _|_ xray | either, asia, smoke, lung, tub)\n",
              "(dysp _|_ xray, smoke | either, lung, asia, bronc, tub)\n",
              "(dysp _|_ xray, asia | either, lung, smoke, bronc, tub)\n",
              "(dysp _|_ lung, tub | xray, either, asia, smoke, bronc)\n",
              "(dysp _|_ lung | xray, either, asia, smoke, tub)\n",
              "(dysp _|_ lung, smoke | xray, either, asia, bronc, tub)\n",
              "(dysp _|_ lung, asia | xray, either, smoke, bronc, tub)\n",
              "(dysp _|_ xray, lung | either, asia, smoke, bronc, tub)\n",
              "(dysp _|_ smoke | xray, lung, asia, bronc, tub)\n",
              "(dysp _|_ asia | xray, lung, smoke, bronc, tub)\n",
              "(dysp _|_ tub | bronc, xray, either, asia, smoke, lung)\n",
              "(dysp _|_ smoke | xray, either, lung, asia, bronc, tub)\n",
              "(dysp _|_ asia | xray, either, lung, smoke, bronc, tub)\n",
              "(dysp _|_ xray | either, lung, asia, smoke, bronc, tub)\n",
              "(dysp _|_ lung | xray, either, asia, smoke, bronc, tub)"
            ]
          },
          "metadata": {
            "tags": []
          },
          "execution_count": 12
        }
      ]
    },
    {
      "cell_type": "code",
      "metadata": {
        "id": "OuD_xkFZfw5z",
        "outputId": "804e1abe-9c1a-47c4-e91b-e536ae787045"
      },
      "source": [
        "model.local_independencies('tub')"
      ],
      "execution_count": null,
      "outputs": [
        {
          "output_type": "execute_result",
          "data": {
            "text/plain": [
              "(tub _|_ lung, bronc, smoke | asia)"
            ]
          },
          "metadata": {
            "tags": []
          },
          "execution_count": 13
        }
      ]
    },
    {
      "cell_type": "code",
      "metadata": {
        "id": "BNSRvIxgfw53",
        "outputId": "dd8665ba-57e7-40b7-c132-945598374ac3"
      },
      "source": [
        "model.is_active_trail('lung', 'tub', observed='either')"
      ],
      "execution_count": null,
      "outputs": [
        {
          "output_type": "execute_result",
          "data": {
            "text/plain": [
              "True"
            ]
          },
          "metadata": {
            "tags": []
          },
          "execution_count": 12
        }
      ]
    },
    {
      "cell_type": "code",
      "metadata": {
        "id": "q8PJGeEKfw55"
      },
      "source": [
        ""
      ],
      "execution_count": null,
      "outputs": []
    }
  ]
}