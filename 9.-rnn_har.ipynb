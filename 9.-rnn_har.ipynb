{
  "nbformat": 4,
  "nbformat_minor": 0,
  "metadata": {
    "kernelspec": {
      "display_name": "Python 3",
      "language": "python",
      "name": "python3"
    },
    "language_info": {
      "codemirror_mode": {
        "name": "ipython",
        "version": 3
      },
      "file_extension": ".py",
      "mimetype": "text/x-python",
      "name": "python",
      "nbconvert_exporter": "python",
      "pygments_lexer": "ipython3",
      "version": "3.8.5"
    },
    "colab": {
      "name": "9.-rnn_har.ipynb",
      "provenance": []
    },
    "accelerator": "GPU"
  },
  "cells": [
    {
      "cell_type": "markdown",
      "metadata": {
        "id": "z0W32S0wFqzf"
      },
      "source": [
        "# Reconocimiento de Actividades Humanas\n",
        "\n",
        "En este laboratorio usaremos registro de actividades capturado por smartphones que fueron desarrolladas por 30 personas distintas. Entre las actividades se incluyen:\n",
        "\n",
        "    1 WALKING\n",
        "    2 WALKING_UPSTAIRS\n",
        "    3 WALKING_DOWNSTAIRS\n",
        "    4 SITTING\n",
        "    5 STANDING\n",
        "    6 LAYING\n",
        "\n",
        "Al mismo tiempo, cada registro de la base de datos incluye las siguientes mediciones:ç\n",
        "\n",
        "-  Aceleracion total y aceleracion del cuerpo estimada en los 3 ejes (X-Y-Z)\n",
        "-  Velocidad angular del giroscopio en 3 los ejes (X-Y-Z)\n",
        "-  Un vector de dimensionalidad 561 con descriptores derivados a partir de los datos de movimiento.\n",
        "-  Etiqueta de actividad\n",
        "-  Un identificador de la persona que ejecuta la actividad\n",
        "\n",
        "Los datos originales se pueden encontrar en [este enlace](https://archive.ics.uci.edu/ml/datasets/Human+Activity+Recognition+Using+Smartphones#)\n",
        "\n",
        "Más información del dataset se encuentra en:\n",
        "\n",
        "- Davide Anguita, Alessandro Ghio, Luca Oneto, Xavier Parra and Jorge L. Reyes-Ortiz. A Public Domain Dataset for Human Activity Recognition Using Smartphones. 21th European Symposium on Artificial Neural Networks, Computational Intelligence and Machine Learning, ESANN 2013. Bruges, Belgium 24-26 April 2013. "
      ]
    },
    {
      "cell_type": "code",
      "metadata": {
        "id": "7wh1ffmyFqzf",
        "outputId": "ea1db297-1678-453e-e7c8-c5ffa3195aa9",
        "colab": {
          "base_uri": "https://localhost:8080/"
        }
      },
      "source": [
        "try:\n",
        "    # %tensorflow_version only exists in Colab.\n",
        "    %tensorflow_version 2.x\n",
        "    IS_COLAB = True\n",
        "except Exception:\n",
        "    IS_COLAB = False\n",
        "\n",
        "\n",
        "print('Google Colab? ',IS_COLAB)"
      ],
      "execution_count": 1,
      "outputs": [
        {
          "output_type": "stream",
          "text": [
            "Google Colab?  True\n"
          ],
          "name": "stdout"
        }
      ]
    },
    {
      "cell_type": "code",
      "metadata": {
        "id": "_q8VDBQBFqzh",
        "outputId": "3debeead-9672-4de3-dc80-4bf4d027dfcb",
        "colab": {
          "base_uri": "https://localhost:8080/"
        }
      },
      "source": [
        "if IS_COLAB:\n",
        "    ! wget  -c \"https://ucmcl-my.sharepoint.com/:u:/g/personal/shernandez_ucm_cl/EWvE2qLEt7lGkusfUcjYHnMBbtVOqIrdzY15Dnd2hHDUJA?e=NAeghv&download=1\" -O HAR.tar.xz\n",
        "    ! tar -xf HAR.tar.xz "
      ],
      "execution_count": 56,
      "outputs": [
        {
          "output_type": "stream",
          "text": [
            "--2020-12-03 20:04:51--  https://ucmcl-my.sharepoint.com/:u:/g/personal/shernandez_ucm_cl/EWvE2qLEt7lGkusfUcjYHnMBbtVOqIrdzY15Dnd2hHDUJA?e=NAeghv&download=1\n",
            "Resolving ucmcl-my.sharepoint.com (ucmcl-my.sharepoint.com)... 40.108.169.35\n",
            "Connecting to ucmcl-my.sharepoint.com (ucmcl-my.sharepoint.com)|40.108.169.35|:443... connected.\n",
            "HTTP request sent, awaiting response... 302 Found\n",
            "Location: /personal/shernandez_ucm_cl/Documents/HAR.tar.xz?originalPath=aHR0cHM6Ly91Y21jbC1teS5zaGFyZXBvaW50LmNvbS86dTovZy9wZXJzb25hbC9zaGVybmFuZGV6X3VjbV9jbC9FV3ZFMnFMRXQ3bEdrdXNmVWNqWUhuTUJidFZPcUlyZHpZMTVEbmQyaEhEVUpBP3J0aW1lPVNTWklzc2FYMkVn [following]\n",
            "--2020-12-03 20:04:52--  https://ucmcl-my.sharepoint.com/personal/shernandez_ucm_cl/Documents/HAR.tar.xz?originalPath=aHR0cHM6Ly91Y21jbC1teS5zaGFyZXBvaW50LmNvbS86dTovZy9wZXJzb25hbC9zaGVybmFuZGV6X3VjbV9jbC9FV3ZFMnFMRXQ3bEdrdXNmVWNqWUhuTUJidFZPcUlyZHpZMTVEbmQyaEhEVUpBP3J0aW1lPVNTWklzc2FYMkVn\n",
            "Reusing existing connection to ucmcl-my.sharepoint.com:443.\n",
            "HTTP request sent, awaiting response... 200 OK\n",
            "Length: 33237852 (32M) [application/octet-stream]\n",
            "Saving to: ‘HAR.tar.xz’\n",
            "\n",
            "HAR.tar.xz          100%[===================>]  31.70M  30.1MB/s    in 1.1s    \n",
            "\n",
            "2020-12-03 20:04:53 (30.1 MB/s) - ‘HAR.tar.xz’ saved [33237852/33237852]\n",
            "\n"
          ],
          "name": "stdout"
        }
      ]
    },
    {
      "cell_type": "code",
      "metadata": {
        "id": "sLcHtvJPNMST",
        "outputId": "019e27fb-88d3-4165-dd95-f323da9f8c3e",
        "colab": {
          "base_uri": "https://localhost:8080/"
        }
      },
      "source": [
        "! ls HAR"
      ],
      "execution_count": 58,
      "outputs": [
        {
          "output_type": "stream",
          "text": [
            "x_test.npy  x_train.npy  y_test.npy  y_train.npy\n"
          ],
          "name": "stdout"
        }
      ]
    },
    {
      "cell_type": "code",
      "metadata": {
        "id": "0tnr_ZgBFqzh"
      },
      "source": [
        "import numpy as np\n",
        "\n",
        "X_train=np.load('HAR/x_train.npy')\n",
        "X_test=np.load('HAR/x_test.npy')\n",
        "y_train=np.load('HAR/y_train.npy')\n",
        "y_test=np.load('HAR/y_test.npy')\n",
        "\n",
        "label_to_activity = {1: 'walking horizontally', 2: 'walking upstairs', 3: 'walking downstairs',\n",
        "                     4: 'sitting', 5: 'standing', 6: 'laying'}"
      ],
      "execution_count": 59,
      "outputs": []
    },
    {
      "cell_type": "code",
      "metadata": {
        "id": "vAjlP5ksFqzh",
        "outputId": "c7b04091-5d9c-41b6-f41f-7b86924711a1"
      },
      "source": [
        "y_train.shape"
      ],
      "execution_count": null,
      "outputs": [
        {
          "output_type": "execute_result",
          "data": {
            "text/plain": [
              "(7352, 1)"
            ]
          },
          "metadata": {
            "tags": []
          },
          "execution_count": 39
        }
      ]
    },
    {
      "cell_type": "code",
      "metadata": {
        "id": "7HDPN5M5Fqzh",
        "outputId": "55efce25-4a81-4351-c517-df2122797e47",
        "colab": {
          "base_uri": "https://localhost:8080/"
        }
      },
      "source": [
        "np.unique(y_train)"
      ],
      "execution_count": 60,
      "outputs": [
        {
          "output_type": "execute_result",
          "data": {
            "text/plain": [
              "array([1, 2, 3, 4, 5, 6])"
            ]
          },
          "metadata": {
            "tags": []
          },
          "execution_count": 60
        }
      ]
    },
    {
      "cell_type": "code",
      "metadata": {
        "id": "3vrwnvJsFqzh",
        "outputId": "f311f096-3a64-469c-cc84-7658d0e291a4",
        "colab": {
          "base_uri": "https://localhost:8080/"
        }
      },
      "source": [
        "print(X_train.shape)"
      ],
      "execution_count": 61,
      "outputs": [
        {
          "output_type": "stream",
          "text": [
            "(7352, 128, 9)\n"
          ],
          "name": "stdout"
        }
      ]
    },
    {
      "cell_type": "code",
      "metadata": {
        "id": "O36ei9pIFqzi",
        "outputId": "8ea7bee1-3153-4673-f9eb-badb49ab131f",
        "colab": {
          "base_uri": "https://localhost:8080/",
          "height": 749
        }
      },
      "source": [
        "import matplotlib.pyplot as plt\n",
        "\n",
        "def make_plots(num_examples_per_category):\n",
        "    for label in range(1,7):\n",
        "        x_label = X_train[y_train[:, 0] == label]\n",
        "        for i in range(num_examples_per_category):\n",
        "            fig, ax = plt.subplots(figsize=(10, 1))\n",
        "            ax.imshow(x_label[100*i].T, cmap='Greys', vmin=-1, vmax=1)\n",
        "            ax.axis('off')\n",
        "            if i == 0:\n",
        "                ax.set_title(label_to_activity[label])\n",
        "            plt.show()\n",
        "        \n",
        "make_plots(2)"
      ],
      "execution_count": 62,
      "outputs": [
        {
          "output_type": "display_data",
          "data": {
            "image/png": "[encoded data removed]",
            "text/plain": [
              "<Figure size 720x72 with 1 Axes>"
            ]
          },
          "metadata": {
            "tags": [],
            "needs_background": "light"
          }
        },
        {
          "output_type": "display_data",
          "data": {
            "image/png": "[encoded data removed]",
            "text/plain": [
              "<Figure size 720x72 with 1 Axes>"
            ]
          },
          "metadata": {
            "tags": [],
            "needs_background": "light"
          }
        },
        {
          "output_type": "display_data",
          "data": {
            "image/png": "[encoded data removed]",
            "text/plain": [
              "<Figure size 720x72 with 1 Axes>"
            ]
          },
          "metadata": {
            "tags": [],
            "needs_background": "light"
          }
        },
        {
          "output_type": "display_data",
          "data": {
            "image/png": "[encoded data removed]",
            "text/plain": [
              "<Figure size 720x72 with 1 Axes>"
            ]
          },
          "metadata": {
            "tags": [],
            "needs_background": "light"
          }
        },
        {
          "output_type": "display_data",
          "data": {
            "image/png": "[encoded data removed]",
            "text/plain": [
              "<Figure size 720x72 with 1 Axes>"
            ]
          },
          "metadata": {
            "tags": [],
            "needs_background": "light"
          }
        },
        {
          "output_type": "display_data",
          "data": {
            "image/png": "[encoded data removed]",
            "text/plain": [
              "<Figure size 720x72 with 1 Axes>"
            ]
          },
          "metadata": {
            "tags": [],
            "needs_background": "light"
          }
        },
        {
          "output_type": "display_data",
          "data": {
            "image/png": "[encoded data removed]",
            "text/plain": [
              "<Figure size 720x72 with 1 Axes>"
            ]
          },
          "metadata": {
            "tags": [],
            "needs_background": "light"
          }
        },
        {
          "output_type": "display_data",
          "data": {
            "image/png": "[encoded data removed]",
            "text/plain": [
              "<Figure size 720x72 with 1 Axes>"
            ]
          },
          "metadata": {
            "tags": [],
            "needs_background": "light"
          }
        },
        {
          "output_type": "display_data",
          "data": {
            "image/png": "[encoded data removed]",
            "text/plain": [
              "<Figure size 720x72 with 1 Axes>"
            ]
          },
          "metadata": {
            "tags": [],
            "needs_background": "light"
          }
        },
        {
          "output_type": "display_data",
          "data": {
            "image/png": "[encoded data removed]",
            "text/plain": [
              "<Figure size 720x72 with 1 Axes>"
            ]
          },
          "metadata": {
            "tags": [],
            "needs_background": "light"
          }
        },
        {
          "output_type": "display_data",
          "data": {
            "image/png": "[encoded data removed]",
            "text/plain": [
              "<Figure size 720x72 with 1 Axes>"
            ]
          },
          "metadata": {
            "tags": [],
            "needs_background": "light"
          }
        },
        {
          "output_type": "display_data",
          "data": {
            "image/png": "[encoded data removed]",
            "text/plain": [
              "<Figure size 720x72 with 1 Axes>"
            ]
          },
          "metadata": {
            "tags": [],
            "needs_background": "light"
          }
        }
      ]
    },
    {
      "cell_type": "code",
      "metadata": {
        "id": "_N33_sx_Fqzi",
        "outputId": "b3bf84e3-5e90-4a41-e0d3-dd48a4ce0fe8",
        "colab": {
          "base_uri": "https://localhost:8080/"
        }
      },
      "source": [
        "import tensorflow as tf\n",
        "from tensorflow import keras \n",
        "from tensorflow.keras.utils import to_categorical\n",
        "from tensorflow.keras.layers import Flatten,Dense\n",
        "\n",
        "model = keras.models.Sequential([\n",
        "    Flatten(input_shape=X_train.shape[1:]),\n",
        "    Dense(32,activation=\"relu\"),\n",
        "    Dense(6,activation=\"softmax\")\n",
        "])\n",
        "model.summary()"
      ],
      "execution_count": 63,
      "outputs": [
        {
          "output_type": "stream",
          "text": [
            "Model: \"sequential\"\n",
            "_________________________________________________________________\n",
            "Layer (type)                 Output Shape              Param #   \n",
            "=================================================================\n",
            "flatten (Flatten)            (None, 1152)              0         \n",
            "_________________________________________________________________\n",
            "dense (Dense)                (None, 32)                36896     \n",
            "_________________________________________________________________\n",
            "dense_1 (Dense)              (None, 6)                 198       \n",
            "=================================================================\n",
            "Total params: 37,094\n",
            "Trainable params: 37,094\n",
            "Non-trainable params: 0\n",
            "_________________________________________________________________\n"
          ],
          "name": "stdout"
        }
      ]
    },
    {
      "cell_type": "code",
      "metadata": {
        "id": "5erQzSsIFqzi"
      },
      "source": [
        "y_train_onehot=to_categorical(y_train-1)\n",
        "y_test_onehot=to_categorical(y_test-1)"
      ],
      "execution_count": 64,
      "outputs": []
    },
    {
      "cell_type": "code",
      "metadata": {
        "id": "AwDHHyNPFqzi",
        "outputId": "44b81d38-35de-4634-ad20-6d3089671b8a",
        "colab": {
          "base_uri": "https://localhost:8080/"
        }
      },
      "source": [
        "opt = keras.optimizers.SGD(lr=0.01, momentum=0.9, decay=0.001)\n",
        "model.compile(loss='categorical_crossentropy',\n",
        "              optimizer=opt,\n",
        "              metrics=['accuracy'])\n",
        "history = model.fit(X_train, y_train_onehot,epochs=100, verbose=1)\n",
        "score = model.evaluate(X_test, y_test_onehot, verbose=0)"
      ],
      "execution_count": 66,
      "outputs": [
        {
          "output_type": "stream",
          "text": [
            "Epoch 1/100\n",
            "230/230 [==============================] - 0s 2ms/step - loss: 0.8544 - accuracy: 0.6748\n",
            "Epoch 2/100\n",
            "230/230 [==============================] - 1s 2ms/step - loss: 0.4110 - accuracy: 0.8649\n",
            "Epoch 3/100\n",
            "230/230 [==============================] - 0s 2ms/step - loss: 0.3068 - accuracy: 0.8957\n",
            "Epoch 4/100\n",
            "230/230 [==============================] - 0s 2ms/step - loss: 0.2526 - accuracy: 0.9093\n",
            "Epoch 5/100\n",
            "230/230 [==============================] - 1s 2ms/step - loss: 0.2175 - accuracy: 0.9214\n",
            "Epoch 6/100\n",
            "230/230 [==============================] - 1s 2ms/step - loss: 0.2038 - accuracy: 0.9275\n",
            "Epoch 7/100\n",
            "230/230 [==============================] - 0s 2ms/step - loss: 0.1859 - accuracy: 0.9350\n",
            "Epoch 8/100\n",
            "230/230 [==============================] - 0s 2ms/step - loss: 0.1756 - accuracy: 0.9376\n",
            "Epoch 9/100\n",
            "230/230 [==============================] - 1s 2ms/step - loss: 0.1675 - accuracy: 0.9411\n",
            "Epoch 10/100\n",
            "230/230 [==============================] - 1s 2ms/step - loss: 0.1594 - accuracy: 0.9415\n",
            "Epoch 11/100\n",
            "230/230 [==============================] - 0s 2ms/step - loss: 0.1557 - accuracy: 0.9463\n",
            "Epoch 12/100\n",
            "230/230 [==============================] - 0s 2ms/step - loss: 0.1491 - accuracy: 0.9468\n",
            "Epoch 13/100\n",
            "230/230 [==============================] - 0s 2ms/step - loss: 0.1460 - accuracy: 0.9484\n",
            "Epoch 14/100\n",
            "230/230 [==============================] - 0s 2ms/step - loss: 0.1434 - accuracy: 0.9468\n",
            "Epoch 15/100\n",
            "230/230 [==============================] - 0s 2ms/step - loss: 0.1400 - accuracy: 0.9478\n",
            "Epoch 16/100\n",
            "230/230 [==============================] - 1s 2ms/step - loss: 0.1363 - accuracy: 0.9484\n",
            "Epoch 17/100\n",
            "230/230 [==============================] - 1s 2ms/step - loss: 0.1352 - accuracy: 0.9510\n",
            "Epoch 18/100\n",
            "230/230 [==============================] - 1s 2ms/step - loss: 0.1330 - accuracy: 0.9508\n",
            "Epoch 19/100\n",
            "230/230 [==============================] - 1s 2ms/step - loss: 0.1312 - accuracy: 0.9498\n",
            "Epoch 20/100\n",
            "230/230 [==============================] - 1s 2ms/step - loss: 0.1298 - accuracy: 0.9525\n",
            "Epoch 21/100\n",
            "230/230 [==============================] - 0s 2ms/step - loss: 0.1277 - accuracy: 0.9527\n",
            "Epoch 22/100\n",
            "230/230 [==============================] - 0s 2ms/step - loss: 0.1267 - accuracy: 0.9509\n",
            "Epoch 23/100\n",
            "230/230 [==============================] - 1s 2ms/step - loss: 0.1249 - accuracy: 0.9528\n",
            "Epoch 24/100\n",
            "230/230 [==============================] - 1s 2ms/step - loss: 0.1253 - accuracy: 0.9521\n",
            "Epoch 25/100\n",
            "230/230 [==============================] - 1s 2ms/step - loss: 0.1236 - accuracy: 0.9518\n",
            "Epoch 26/100\n",
            "230/230 [==============================] - 1s 2ms/step - loss: 0.1225 - accuracy: 0.9532\n",
            "Epoch 27/100\n",
            "230/230 [==============================] - 1s 2ms/step - loss: 0.1219 - accuracy: 0.9527\n",
            "Epoch 28/100\n",
            "230/230 [==============================] - 1s 2ms/step - loss: 0.1212 - accuracy: 0.9546\n",
            "Epoch 29/100\n",
            "230/230 [==============================] - 1s 2ms/step - loss: 0.1196 - accuracy: 0.9555\n",
            "Epoch 30/100\n",
            "230/230 [==============================] - 0s 2ms/step - loss: 0.1195 - accuracy: 0.9540\n",
            "Epoch 31/100\n",
            "230/230 [==============================] - 0s 2ms/step - loss: 0.1197 - accuracy: 0.9547\n",
            "Epoch 32/100\n",
            "230/230 [==============================] - 0s 2ms/step - loss: 0.1186 - accuracy: 0.9554\n",
            "Epoch 33/100\n",
            "230/230 [==============================] - 0s 2ms/step - loss: 0.1172 - accuracy: 0.9535\n",
            "Epoch 34/100\n",
            "230/230 [==============================] - 1s 2ms/step - loss: 0.1169 - accuracy: 0.9557\n",
            "Epoch 35/100\n",
            "230/230 [==============================] - 1s 2ms/step - loss: 0.1165 - accuracy: 0.9532\n",
            "Epoch 36/100\n",
            "230/230 [==============================] - 1s 2ms/step - loss: 0.1169 - accuracy: 0.9542\n",
            "Epoch 37/100\n",
            "230/230 [==============================] - 1s 2ms/step - loss: 0.1155 - accuracy: 0.9546\n",
            "Epoch 38/100\n",
            "230/230 [==============================] - 0s 2ms/step - loss: 0.1152 - accuracy: 0.9559\n",
            "Epoch 39/100\n",
            "230/230 [==============================] - 0s 2ms/step - loss: 0.1147 - accuracy: 0.9573\n",
            "Epoch 40/100\n",
            "230/230 [==============================] - 0s 2ms/step - loss: 0.1144 - accuracy: 0.9554\n",
            "Epoch 41/100\n",
            "230/230 [==============================] - 0s 2ms/step - loss: 0.1138 - accuracy: 0.9559\n",
            "Epoch 42/100\n",
            "230/230 [==============================] - 0s 2ms/step - loss: 0.1130 - accuracy: 0.9553\n",
            "Epoch 43/100\n",
            "230/230 [==============================] - 0s 2ms/step - loss: 0.1136 - accuracy: 0.9542\n",
            "Epoch 44/100\n",
            "230/230 [==============================] - 1s 2ms/step - loss: 0.1137 - accuracy: 0.9554\n",
            "Epoch 45/100\n",
            "230/230 [==============================] - 1s 2ms/step - loss: 0.1126 - accuracy: 0.9555\n",
            "Epoch 46/100\n",
            "230/230 [==============================] - 0s 2ms/step - loss: 0.1122 - accuracy: 0.9569\n",
            "Epoch 47/100\n",
            "230/230 [==============================] - 0s 2ms/step - loss: 0.1120 - accuracy: 0.9555\n",
            "Epoch 48/100\n",
            "230/230 [==============================] - 0s 2ms/step - loss: 0.1115 - accuracy: 0.9543\n",
            "Epoch 49/100\n",
            "230/230 [==============================] - 0s 2ms/step - loss: 0.1116 - accuracy: 0.9559\n",
            "Epoch 50/100\n",
            "230/230 [==============================] - 0s 2ms/step - loss: 0.1114 - accuracy: 0.9558\n",
            "Epoch 51/100\n",
            "230/230 [==============================] - 0s 2ms/step - loss: 0.1111 - accuracy: 0.9573\n",
            "Epoch 52/100\n",
            "230/230 [==============================] - 0s 2ms/step - loss: 0.1107 - accuracy: 0.9565\n",
            "Epoch 53/100\n",
            "230/230 [==============================] - 0s 2ms/step - loss: 0.1103 - accuracy: 0.9577\n",
            "Epoch 54/100\n",
            "230/230 [==============================] - 1s 2ms/step - loss: 0.1104 - accuracy: 0.9562\n",
            "Epoch 55/100\n",
            "230/230 [==============================] - 1s 2ms/step - loss: 0.1099 - accuracy: 0.9562\n",
            "Epoch 56/100\n",
            "230/230 [==============================] - 0s 2ms/step - loss: 0.1096 - accuracy: 0.9553\n",
            "Epoch 57/100\n",
            "230/230 [==============================] - 0s 2ms/step - loss: 0.1094 - accuracy: 0.9566\n",
            "Epoch 58/100\n",
            "230/230 [==============================] - 0s 2ms/step - loss: 0.1095 - accuracy: 0.9576\n",
            "Epoch 59/100\n",
            "230/230 [==============================] - 1s 2ms/step - loss: 0.1090 - accuracy: 0.9570\n",
            "Epoch 60/100\n",
            "230/230 [==============================] - 0s 2ms/step - loss: 0.1086 - accuracy: 0.9565\n",
            "Epoch 61/100\n",
            "230/230 [==============================] - 0s 2ms/step - loss: 0.1085 - accuracy: 0.9573\n",
            "Epoch 62/100\n",
            "230/230 [==============================] - 0s 2ms/step - loss: 0.1082 - accuracy: 0.9576\n",
            "Epoch 63/100\n",
            "230/230 [==============================] - 0s 2ms/step - loss: 0.1082 - accuracy: 0.9574\n",
            "Epoch 64/100\n",
            "230/230 [==============================] - 0s 2ms/step - loss: 0.1077 - accuracy: 0.9570\n",
            "Epoch 65/100\n",
            "230/230 [==============================] - 0s 2ms/step - loss: 0.1075 - accuracy: 0.9576\n",
            "Epoch 66/100\n",
            "230/230 [==============================] - 0s 2ms/step - loss: 0.1075 - accuracy: 0.9585\n",
            "Epoch 67/100\n",
            "230/230 [==============================] - 1s 2ms/step - loss: 0.1069 - accuracy: 0.9574\n",
            "Epoch 68/100\n",
            "230/230 [==============================] - 0s 2ms/step - loss: 0.1076 - accuracy: 0.9591\n",
            "Epoch 69/100\n",
            "230/230 [==============================] - 0s 2ms/step - loss: 0.1072 - accuracy: 0.9565\n",
            "Epoch 70/100\n",
            "230/230 [==============================] - 1s 2ms/step - loss: 0.1069 - accuracy: 0.9588\n",
            "Epoch 71/100\n",
            "230/230 [==============================] - 1s 2ms/step - loss: 0.1069 - accuracy: 0.9565\n",
            "Epoch 72/100\n",
            "230/230 [==============================] - 1s 2ms/step - loss: 0.1064 - accuracy: 0.9578\n",
            "Epoch 73/100\n",
            "230/230 [==============================] - 1s 2ms/step - loss: 0.1062 - accuracy: 0.9577\n",
            "Epoch 74/100\n",
            "230/230 [==============================] - 0s 2ms/step - loss: 0.1060 - accuracy: 0.9585\n",
            "Epoch 75/100\n",
            "230/230 [==============================] - 0s 2ms/step - loss: 0.1064 - accuracy: 0.9566\n",
            "Epoch 76/100\n",
            "230/230 [==============================] - 1s 2ms/step - loss: 0.1058 - accuracy: 0.9596\n",
            "Epoch 77/100\n",
            "230/230 [==============================] - 1s 2ms/step - loss: 0.1057 - accuracy: 0.9588\n",
            "Epoch 78/100\n",
            "230/230 [==============================] - 0s 2ms/step - loss: 0.1054 - accuracy: 0.9580\n",
            "Epoch 79/100\n",
            "230/230 [==============================] - 0s 2ms/step - loss: 0.1051 - accuracy: 0.9592\n",
            "Epoch 80/100\n",
            "230/230 [==============================] - 0s 2ms/step - loss: 0.1052 - accuracy: 0.9578\n",
            "Epoch 81/100\n",
            "230/230 [==============================] - 1s 2ms/step - loss: 0.1050 - accuracy: 0.9576\n",
            "Epoch 82/100\n",
            "230/230 [==============================] - 0s 2ms/step - loss: 0.1047 - accuracy: 0.9581\n",
            "Epoch 83/100\n",
            "230/230 [==============================] - 0s 2ms/step - loss: 0.1048 - accuracy: 0.9593\n",
            "Epoch 84/100\n",
            "230/230 [==============================] - 0s 2ms/step - loss: 0.1048 - accuracy: 0.9581\n",
            "Epoch 85/100\n",
            "230/230 [==============================] - 0s 2ms/step - loss: 0.1045 - accuracy: 0.9607\n",
            "Epoch 86/100\n",
            "230/230 [==============================] - 0s 2ms/step - loss: 0.1049 - accuracy: 0.9584\n",
            "Epoch 87/100\n",
            "230/230 [==============================] - 1s 2ms/step - loss: 0.1044 - accuracy: 0.9606\n",
            "Epoch 88/100\n",
            "230/230 [==============================] - 0s 2ms/step - loss: 0.1041 - accuracy: 0.9591\n",
            "Epoch 89/100\n",
            "230/230 [==============================] - 0s 2ms/step - loss: 0.1039 - accuracy: 0.9606\n",
            "Epoch 90/100\n",
            "230/230 [==============================] - 0s 2ms/step - loss: 0.1042 - accuracy: 0.9593\n",
            "Epoch 91/100\n",
            "230/230 [==============================] - 1s 2ms/step - loss: 0.1040 - accuracy: 0.9596\n",
            "Epoch 92/100\n",
            "230/230 [==============================] - 0s 2ms/step - loss: 0.1037 - accuracy: 0.9591\n",
            "Epoch 93/100\n",
            "230/230 [==============================] - 0s 2ms/step - loss: 0.1037 - accuracy: 0.9603\n",
            "Epoch 94/100\n",
            "230/230 [==============================] - 1s 2ms/step - loss: 0.1033 - accuracy: 0.9599\n",
            "Epoch 95/100\n",
            "230/230 [==============================] - 1s 2ms/step - loss: 0.1035 - accuracy: 0.9604\n",
            "Epoch 96/100\n",
            "230/230 [==============================] - 1s 2ms/step - loss: 0.1029 - accuracy: 0.9588\n",
            "Epoch 97/100\n",
            "230/230 [==============================] - 1s 2ms/step - loss: 0.1030 - accuracy: 0.9601\n",
            "Epoch 98/100\n",
            "230/230 [==============================] - 0s 2ms/step - loss: 0.1030 - accuracy: 0.9600\n",
            "Epoch 99/100\n",
            "230/230 [==============================] - 0s 2ms/step - loss: 0.1026 - accuracy: 0.9615\n",
            "Epoch 100/100\n",
            "230/230 [==============================] - 0s 2ms/step - loss: 0.1025 - accuracy: 0.9567\n"
          ],
          "name": "stdout"
        }
      ]
    },
    {
      "cell_type": "code",
      "metadata": {
        "id": "wNyL2e8bFqzi",
        "outputId": "9221fcf6-cadf-4177-d619-330f08b3aaaa",
        "colab": {
          "base_uri": "https://localhost:8080/"
        }
      },
      "source": [
        "print('validation loss : {0:0.2f}, validation accuracy : {1:0.2f}'.format(*score))"
      ],
      "execution_count": 67,
      "outputs": [
        {
          "output_type": "stream",
          "text": [
            "validation loss : 0.62, validation accuracy : 0.86\n"
          ],
          "name": "stdout"
        }
      ]
    },
    {
      "cell_type": "code",
      "metadata": {
        "id": "Gi_-8DXYFqzi",
        "outputId": "844a7330-0a00-4513-c7e1-f2790069a9a9",
        "colab": {
          "base_uri": "https://localhost:8080/",
          "height": 298
        }
      },
      "source": [
        "import matplotlib.pyplot as plt\n",
        "\n",
        "plt.figure(figsize=(15,4))\n",
        "plt.subplot(1, 2, 1)\n",
        "plt.plot(history.history['loss'])\n",
        "plt.title('loss')\n",
        "plt.subplot(1, 2, 2)\n",
        "plt.plot(history.history['accuracy'])\n",
        "plt.title('accuracy')"
      ],
      "execution_count": 68,
      "outputs": [
        {
          "output_type": "execute_result",
          "data": {
            "text/plain": [
              "Text(0.5, 1.0, 'accuracy')"
            ]
          },
          "metadata": {
            "tags": []
          },
          "execution_count": 68
        },
        {
          "output_type": "display_data",
          "data": {
            "image/png": "[encoded data removed]",
            "text/plain": [
              "<Figure size 1080x288 with 2 Axes>"
            ]
          },
          "metadata": {
            "tags": [],
            "needs_background": "light"
          }
        }
      ]
    },
    {
      "cell_type": "code",
      "metadata": {
        "id": "XQ7KpibpFqzi"
      },
      "source": [
        "from tensorflow.keras.layers import Flatten,Dense,SimpleRNN\n",
        "\n",
        "rnn_model = keras.models.Sequential([\n",
        "    SimpleRNN(32, return_sequences=True, input_shape=X_train.shape[1:]),\n",
        "    SimpleRNN(32),\n",
        "    Dense(6,activation=\"softmax\")\n",
        "])"
      ],
      "execution_count": 75,
      "outputs": []
    },
    {
      "cell_type": "code",
      "metadata": {
        "id": "4aV1ZEcgFqzi",
        "outputId": "7b89848e-b04f-4bdf-c95b-24012ad3db95",
        "colab": {
          "base_uri": "https://localhost:8080/"
        }
      },
      "source": [
        "rnn_model.summary()"
      ],
      "execution_count": 76,
      "outputs": [
        {
          "output_type": "stream",
          "text": [
            "Model: \"sequential_3\"\n",
            "_________________________________________________________________\n",
            "Layer (type)                 Output Shape              Param #   \n",
            "=================================================================\n",
            "simple_rnn_3 (SimpleRNN)     (None, 128, 32)           1344      \n",
            "_________________________________________________________________\n",
            "simple_rnn_4 (SimpleRNN)     (None, 32)                2080      \n",
            "_________________________________________________________________\n",
            "dense_3 (Dense)              (None, 6)                 198       \n",
            "=================================================================\n",
            "Total params: 3,622\n",
            "Trainable params: 3,622\n",
            "Non-trainable params: 0\n",
            "_________________________________________________________________\n"
          ],
          "name": "stdout"
        }
      ]
    },
    {
      "cell_type": "code",
      "metadata": {
        "id": "2Eut0pO4Fqzi",
        "outputId": "d3199003-0229-46bf-ef6d-4e9b5ee40d5e",
        "colab": {
          "base_uri": "https://localhost:8080/"
        }
      },
      "source": [
        "rnn_model.compile(loss='categorical_crossentropy',\n",
        "              optimizer=opt,\n",
        "              metrics=['accuracy'])\n",
        "history = rnn_model.fit(X_train, y_train_onehot,epochs=100, verbose=1)\n",
        "score = rnn_model.evaluate(X_test, y_test_onehot, verbose=0)"
      ],
      "execution_count": 77,
      "outputs": [
        {
          "output_type": "stream",
          "text": [
            "Epoch 1/100\n",
            "230/230 [==============================] - 36s 155ms/step - loss: 1.5009 - accuracy: 0.4142\n",
            "Epoch 2/100\n",
            "230/230 [==============================] - 34s 149ms/step - loss: 1.2584 - accuracy: 0.5241\n",
            "Epoch 3/100\n",
            "230/230 [==============================] - 33s 145ms/step - loss: 1.1699 - accuracy: 0.5420\n",
            "Epoch 4/100\n",
            "230/230 [==============================] - 35s 153ms/step - loss: 1.0497 - accuracy: 0.5949\n",
            "Epoch 5/100\n",
            "230/230 [==============================] - 33s 142ms/step - loss: 0.9264 - accuracy: 0.6530\n",
            "Epoch 6/100\n",
            "230/230 [==============================] - 35s 150ms/step - loss: 0.9483 - accuracy: 0.6171\n",
            "Epoch 7/100\n",
            "230/230 [==============================] - 34s 150ms/step - loss: 0.7662 - accuracy: 0.6752\n",
            "Epoch 8/100\n",
            "230/230 [==============================] - 34s 147ms/step - loss: 0.6993 - accuracy: 0.6923\n",
            "Epoch 9/100\n",
            "230/230 [==============================] - 35s 153ms/step - loss: 0.6718 - accuracy: 0.7038\n",
            "Epoch 10/100\n",
            "230/230 [==============================] - 34s 150ms/step - loss: 0.6537 - accuracy: 0.7101\n",
            "Epoch 11/100\n",
            "230/230 [==============================] - 34s 147ms/step - loss: 0.6498 - accuracy: 0.7134\n",
            "Epoch 12/100\n",
            "230/230 [==============================] - 35s 151ms/step - loss: 0.6542 - accuracy: 0.7175\n",
            "Epoch 13/100\n",
            "230/230 [==============================] - 35s 151ms/step - loss: 0.7315 - accuracy: 0.6944\n",
            "Epoch 14/100\n",
            "230/230 [==============================] - 35s 151ms/step - loss: 1.2209 - accuracy: 0.5110\n",
            "Epoch 15/100\n",
            "230/230 [==============================] - 35s 152ms/step - loss: 0.8975 - accuracy: 0.6080\n",
            "Epoch 16/100\n",
            "230/230 [==============================] - 34s 147ms/step - loss: 0.8401 - accuracy: 0.6313\n",
            "Epoch 17/100\n",
            "230/230 [==============================] - 34s 150ms/step - loss: 1.0712 - accuracy: 0.5873\n",
            "Epoch 18/100\n",
            "230/230 [==============================] - 35s 153ms/step - loss: 1.1865 - accuracy: 0.5201\n",
            "Epoch 19/100\n",
            "230/230 [==============================] - 36s 156ms/step - loss: 0.8631 - accuracy: 0.6443\n",
            "Epoch 20/100\n",
            "230/230 [==============================] - 34s 147ms/step - loss: 1.5340 - accuracy: 0.4388\n",
            "Epoch 21/100\n",
            "230/230 [==============================] - 35s 151ms/step - loss: 1.2555 - accuracy: 0.5067\n",
            "Epoch 22/100\n",
            "230/230 [==============================] - 36s 157ms/step - loss: 1.0758 - accuracy: 0.5714\n",
            "Epoch 23/100\n",
            "230/230 [==============================] - 34s 148ms/step - loss: 0.9527 - accuracy: 0.6162\n",
            "Epoch 24/100\n",
            "230/230 [==============================] - 35s 152ms/step - loss: 0.8198 - accuracy: 0.6649\n",
            "Epoch 25/100\n",
            "230/230 [==============================] - 35s 154ms/step - loss: 0.7720 - accuracy: 0.6752\n",
            "Epoch 26/100\n",
            "230/230 [==============================] - 35s 153ms/step - loss: 0.7353 - accuracy: 0.6914\n",
            "Epoch 27/100\n",
            "230/230 [==============================] - 36s 156ms/step - loss: 0.6992 - accuracy: 0.7004\n",
            "Epoch 28/100\n",
            "230/230 [==============================] - 35s 153ms/step - loss: 0.6634 - accuracy: 0.7126\n",
            "Epoch 29/100\n",
            "230/230 [==============================] - 37s 159ms/step - loss: 0.6413 - accuracy: 0.7220\n",
            "Epoch 30/100\n",
            "230/230 [==============================] - 37s 162ms/step - loss: 0.6340 - accuracy: 0.7296\n",
            "Epoch 31/100\n",
            "230/230 [==============================] - 37s 159ms/step - loss: 0.6178 - accuracy: 0.7344\n",
            "Epoch 32/100\n",
            "230/230 [==============================] - 35s 152ms/step - loss: 0.5948 - accuracy: 0.7451\n",
            "Epoch 33/100\n",
            "230/230 [==============================] - 35s 150ms/step - loss: 0.5771 - accuracy: 0.7514\n",
            "Epoch 34/100\n",
            "230/230 [==============================] - 36s 155ms/step - loss: 0.6077 - accuracy: 0.7384\n",
            "Epoch 35/100\n",
            "230/230 [==============================] - 35s 153ms/step - loss: 0.5886 - accuracy: 0.7451\n",
            "Epoch 36/100\n",
            "230/230 [==============================] - 34s 146ms/step - loss: 0.5711 - accuracy: 0.7629\n",
            "Epoch 37/100\n",
            "230/230 [==============================] - 34s 149ms/step - loss: 0.5495 - accuracy: 0.7662\n",
            "Epoch 38/100\n",
            "230/230 [==============================] - 35s 153ms/step - loss: 0.5243 - accuracy: 0.7799\n",
            "Epoch 39/100\n",
            "230/230 [==============================] - 34s 149ms/step - loss: 0.5187 - accuracy: 0.7769\n",
            "Epoch 40/100\n",
            "230/230 [==============================] - 35s 151ms/step - loss: 0.5061 - accuracy: 0.7867\n",
            "Epoch 41/100\n",
            "230/230 [==============================] - 34s 147ms/step - loss: 0.4976 - accuracy: 0.7881\n",
            "Epoch 42/100\n",
            "230/230 [==============================] - 34s 146ms/step - loss: 0.5001 - accuracy: 0.7878\n",
            "Epoch 43/100\n",
            "230/230 [==============================] - 34s 149ms/step - loss: 0.4860 - accuracy: 0.7990\n",
            "Epoch 44/100\n",
            "230/230 [==============================] - 34s 148ms/step - loss: 0.5992 - accuracy: 0.7489\n",
            "Epoch 45/100\n",
            "230/230 [==============================] - 34s 149ms/step - loss: 0.5227 - accuracy: 0.7761\n",
            "Epoch 46/100\n",
            "230/230 [==============================] - 34s 149ms/step - loss: 0.5335 - accuracy: 0.7769\n",
            "Epoch 47/100\n",
            "230/230 [==============================] - 34s 147ms/step - loss: 0.4939 - accuracy: 0.8010\n",
            "Epoch 48/100\n",
            "230/230 [==============================] - 33s 143ms/step - loss: 0.4817 - accuracy: 0.8003\n",
            "Epoch 49/100\n",
            "230/230 [==============================] - 34s 149ms/step - loss: 0.4456 - accuracy: 0.8165\n",
            "Epoch 50/100\n",
            "230/230 [==============================] - 33s 142ms/step - loss: 0.4408 - accuracy: 0.8194\n",
            "Epoch 51/100\n",
            "230/230 [==============================] - 33s 145ms/step - loss: 0.4507 - accuracy: 0.8194\n",
            "Epoch 52/100\n",
            "230/230 [==============================] - 34s 148ms/step - loss: 0.4715 - accuracy: 0.8037\n",
            "Epoch 53/100\n",
            "230/230 [==============================] - 36s 156ms/step - loss: 0.4577 - accuracy: 0.8109\n",
            "Epoch 54/100\n",
            "230/230 [==============================] - 34s 149ms/step - loss: 0.4711 - accuracy: 0.8104\n",
            "Epoch 55/100\n",
            "230/230 [==============================] - 35s 154ms/step - loss: 0.4604 - accuracy: 0.8074\n",
            "Epoch 56/100\n",
            "230/230 [==============================] - 34s 150ms/step - loss: 0.4515 - accuracy: 0.8119\n",
            "Epoch 57/100\n",
            "230/230 [==============================] - 35s 152ms/step - loss: 0.4421 - accuracy: 0.8199\n",
            "Epoch 58/100\n",
            "230/230 [==============================] - 37s 161ms/step - loss: 0.4279 - accuracy: 0.8241\n",
            "Epoch 59/100\n",
            "230/230 [==============================] - 36s 155ms/step - loss: 0.4074 - accuracy: 0.8350\n",
            "Epoch 60/100\n",
            "230/230 [==============================] - 36s 156ms/step - loss: 0.4356 - accuracy: 0.8275\n",
            "Epoch 61/100\n",
            "230/230 [==============================] - 35s 154ms/step - loss: 0.4221 - accuracy: 0.8282\n",
            "Epoch 62/100\n",
            "230/230 [==============================] - 36s 155ms/step - loss: 0.5018 - accuracy: 0.8028\n",
            "Epoch 63/100\n",
            "230/230 [==============================] - 38s 165ms/step - loss: 0.3971 - accuracy: 0.8394\n",
            "Epoch 64/100\n",
            "230/230 [==============================] - 37s 159ms/step - loss: 0.5417 - accuracy: 0.7961\n",
            "Epoch 65/100\n",
            "230/230 [==============================] - 37s 161ms/step - loss: 0.3902 - accuracy: 0.8453\n",
            "Epoch 66/100\n",
            "230/230 [==============================] - 36s 157ms/step - loss: 0.3761 - accuracy: 0.8553\n",
            "Epoch 67/100\n",
            "230/230 [==============================] - 37s 161ms/step - loss: 0.3746 - accuracy: 0.8566\n",
            "Epoch 68/100\n",
            "230/230 [==============================] - 36s 157ms/step - loss: 0.4144 - accuracy: 0.8362\n",
            "Epoch 69/100\n",
            "230/230 [==============================] - 37s 159ms/step - loss: 0.3825 - accuracy: 0.8504\n",
            "Epoch 70/100\n",
            "230/230 [==============================] - 37s 159ms/step - loss: 0.4134 - accuracy: 0.8322\n",
            "Epoch 71/100\n",
            "230/230 [==============================] - 37s 159ms/step - loss: 0.3704 - accuracy: 0.8587\n",
            "Epoch 72/100\n",
            "230/230 [==============================] - 36s 158ms/step - loss: 0.3903 - accuracy: 0.8492\n",
            "Epoch 73/100\n",
            "230/230 [==============================] - 36s 155ms/step - loss: 0.3555 - accuracy: 0.8658\n",
            "Epoch 74/100\n",
            "230/230 [==============================] - 36s 156ms/step - loss: 0.3785 - accuracy: 0.8517\n",
            "Epoch 75/100\n",
            "230/230 [==============================] - 38s 164ms/step - loss: 0.3904 - accuracy: 0.8478\n",
            "Epoch 76/100\n",
            "230/230 [==============================] - 37s 163ms/step - loss: 0.3491 - accuracy: 0.8662\n",
            "Epoch 77/100\n",
            "230/230 [==============================] - 37s 161ms/step - loss: 0.5120 - accuracy: 0.8158\n",
            "Epoch 78/100\n",
            "230/230 [==============================] - 37s 161ms/step - loss: 0.3507 - accuracy: 0.8681\n",
            "Epoch 79/100\n",
            "230/230 [==============================] - 38s 167ms/step - loss: 0.3435 - accuracy: 0.8708\n",
            "Epoch 80/100\n",
            "230/230 [==============================] - 38s 163ms/step - loss: 0.3387 - accuracy: 0.8719\n",
            "Epoch 81/100\n",
            "230/230 [==============================] - 37s 162ms/step - loss: 0.6919 - accuracy: 0.7879\n",
            "Epoch 82/100\n",
            "230/230 [==============================] - 39s 168ms/step - loss: 1.5255 - accuracy: 0.4709\n",
            "Epoch 83/100\n",
            "230/230 [==============================] - 36s 157ms/step - loss: 1.0021 - accuracy: 0.6038\n",
            "Epoch 84/100\n",
            "230/230 [==============================] - 36s 157ms/step - loss: 0.9130 - accuracy: 0.6167\n",
            "Epoch 85/100\n",
            "230/230 [==============================] - 37s 159ms/step - loss: 0.7988 - accuracy: 0.6646\n",
            "Epoch 86/100\n",
            "230/230 [==============================] - 38s 164ms/step - loss: 0.7364 - accuracy: 0.6884\n",
            "Epoch 87/100\n",
            "230/230 [==============================] - 36s 156ms/step - loss: 0.7431 - accuracy: 0.6782\n",
            "Epoch 88/100\n",
            "230/230 [==============================] - 37s 159ms/step - loss: 0.6651 - accuracy: 0.7216\n",
            "Epoch 89/100\n",
            "230/230 [==============================] - 36s 158ms/step - loss: 0.6387 - accuracy: 0.7382\n",
            "Epoch 90/100\n",
            "230/230 [==============================] - 35s 154ms/step - loss: 0.6204 - accuracy: 0.7447\n",
            "Epoch 91/100\n",
            "230/230 [==============================] - 36s 157ms/step - loss: 0.6071 - accuracy: 0.7527\n",
            "Epoch 92/100\n",
            "230/230 [==============================] - 37s 159ms/step - loss: 0.5745 - accuracy: 0.7681\n",
            "Epoch 93/100\n",
            "230/230 [==============================] - 39s 168ms/step - loss: 0.6145 - accuracy: 0.7535\n",
            "Epoch 94/100\n",
            "230/230 [==============================] - 37s 160ms/step - loss: 0.5298 - accuracy: 0.7962\n",
            "Epoch 95/100\n",
            "230/230 [==============================] - 37s 160ms/step - loss: 2.0354 - accuracy: 0.4147\n",
            "Epoch 96/100\n",
            "230/230 [==============================] - 38s 164ms/step - loss: 1.9474 - accuracy: 0.3770\n",
            "Epoch 97/100\n",
            "230/230 [==============================] - 38s 164ms/step - loss: 1.6062 - accuracy: 0.4015\n",
            "Epoch 98/100\n",
            "230/230 [==============================] - 37s 159ms/step - loss: 1.3265 - accuracy: 0.4829\n",
            "Epoch 99/100\n",
            "230/230 [==============================] - 38s 165ms/step - loss: 1.5148 - accuracy: 0.4709\n",
            "Epoch 100/100\n",
            "230/230 [==============================] - 37s 161ms/step - loss: 1.5255 - accuracy: 0.4370\n"
          ],
          "name": "stdout"
        }
      ]
    },
    {
      "cell_type": "code",
      "metadata": {
        "id": "xCnYH5_UFqzi"
      },
      "source": [
        ""
      ],
      "execution_count": null,
      "outputs": []
    }
  ]
}